{
 "cells": [
  {
   "cell_type": "code",
   "execution_count": 1,
   "id": "e39de075-61cb-423e-8107-7ccbbf95b32a",
   "metadata": {},
   "outputs": [
    {
     "name": "stdout",
     "output_type": "stream",
     "text": [
      "3.10.12 (main, Nov 20 2023, 15:14:05) [GCC 11.4.0]\n"
     ]
    }
   ],
   "source": [
    "import sys\n",
    "print(sys.version)"
   ]
  },
  {
   "cell_type": "code",
   "execution_count": 2,
   "id": "01c557dc-fe15-4455-ab9c-af9dcc2bc840",
   "metadata": {},
   "outputs": [],
   "source": [
    "import os\n",
    "os.environ[\"SPARK_HOME\"] = \"/home/atimaby28/spark-3.5.0-bin-hadoop3\""
   ]
  },
  {
   "cell_type": "code",
   "execution_count": 3,
   "id": "5e4ed3f2-5ee3-44f1-9180-8a129a4869b5",
   "metadata": {},
   "outputs": [
    {
     "name": "stderr",
     "output_type": "stream",
     "text": [
      "24/02/12 15:39:16 WARN Utils: Your hostname, bigdata-project resolves to a loopback address: 127.0.1.1; using 192.168.64.7 instead (on interface enp0s1)\n",
      "24/02/12 15:39:16 WARN Utils: Set SPARK_LOCAL_IP if you need to bind to another address\n",
      "Setting default log level to \"WARN\".\n",
      "To adjust logging level use sc.setLogLevel(newLevel). For SparkR, use setLogLevel(newLevel).\n",
      "24/02/12 15:39:16 WARN NativeCodeLoader: Unable to load native-hadoop library for your platform... using builtin-java classes where applicable\n",
      "----------------------------------------\n",
      "Exception occurred during processing of request from ('127.0.0.1', 33784)\n",
      "Traceback (most recent call last):\n",
      "  File \"/usr/lib/python3.10/socketserver.py\", line 316, in _handle_request_noblock\n",
      "    self.process_request(request, client_address)\n",
      "  File \"/usr/lib/python3.10/socketserver.py\", line 347, in process_request\n",
      "    self.finish_request(request, client_address)\n",
      "  File \"/usr/lib/python3.10/socketserver.py\", line 360, in finish_request\n",
      "    self.RequestHandlerClass(request, client_address, self)\n",
      "  File \"/usr/lib/python3.10/socketserver.py\", line 747, in __init__\n",
      "    self.handle()\n",
      "  File \"/home/atimaby28/.local/lib/python3.10/site-packages/pyspark/accumulators.py\", line 295, in handle\n",
      "    poll(accum_updates)\n",
      "  File \"/home/atimaby28/.local/lib/python3.10/site-packages/pyspark/accumulators.py\", line 267, in poll\n",
      "    if self.rfile in r and func():\n",
      "  File \"/home/atimaby28/.local/lib/python3.10/site-packages/pyspark/accumulators.py\", line 271, in accum_updates\n",
      "    num_updates = read_int(self.rfile)\n",
      "  File \"/home/atimaby28/.local/lib/python3.10/site-packages/pyspark/serializers.py\", line 596, in read_int\n",
      "    raise EOFError\n",
      "EOFError\n",
      "----------------------------------------\n"
     ]
    }
   ],
   "source": [
    "import pyspark\n",
    "sc = pyspark.SparkContext(appName=\"SparkBasic1\")"
   ]
  },
  {
   "cell_type": "code",
   "execution_count": 4,
   "id": "5b62a327-8eba-47c4-aa51-0cfa7db2b4d8",
   "metadata": {},
   "outputs": [],
   "source": [
    "import findspark\n",
    "findspark.init()"
   ]
  },
  {
   "cell_type": "code",
   "execution_count": 5,
   "id": "eae0d3a3-7a75-401f-979c-eddce3f021df",
   "metadata": {},
   "outputs": [
    {
     "data": {
      "text/plain": [
       "[1, 2, 3, 4]"
      ]
     },
     "execution_count": 5,
     "metadata": {},
     "output_type": "execute_result"
    }
   ],
   "source": [
    "list_num = [1,2,3,4]\n",
    "rdd = sc.parallelize(list_num)\n",
    "rdd.collect()"
   ]
  },
  {
   "cell_type": "code",
   "execution_count": 6,
   "id": "1feea44b-1cb9-48d6-bd13-bad78154cf82",
   "metadata": {},
   "outputs": [
    {
     "name": "stdout",
     "output_type": "stream",
     "text": [
      "[['fish', 'fish'], ['cat'], ['fish', 'cat']]\n"
     ]
    }
   ],
   "source": [
    "wordsList = [['fish', 'fish'], ['cat'], ['fish', 'cat']]\n",
    "rdd = sc.parallelize(wordsList)\n",
    "output = rdd.map(lambda line: [x for x in line]).collect()\n",
    "\n",
    "print(output)"
   ]
  },
  {
   "cell_type": "code",
   "execution_count": 7,
   "id": "ff2b7b3d-cd55-40c1-956c-e04277e056e3",
   "metadata": {},
   "outputs": [
    {
     "name": "stdout",
     "output_type": "stream",
     "text": [
      "['fish', 'fish', 'cat', 'fish', 'cat']\n"
     ]
    }
   ],
   "source": [
    "wordsList = [['fish', 'fish'], ['cat'], ['fish', 'cat']]\n",
    "rdd = sc.parallelize(wordsList)\n",
    "output = rdd.flatMap(lambda line: [x for x in line]).collect()\n",
    "\n",
    "print(output)"
   ]
  },
  {
   "cell_type": "code",
   "execution_count": 8,
   "id": "8b6870eb-418c-444d-bcca-4c4998d0bc18",
   "metadata": {},
   "outputs": [
    {
     "data": {
      "text/plain": [
       "['fish', 'fish', 'fish']"
      ]
     },
     "execution_count": 8,
     "metadata": {},
     "output_type": "execute_result"
    }
   ],
   "source": [
    "def remove_cat(animal):\n",
    "    return (animal != 'cat')\n",
    "\n",
    "wordsList = [['fish', 'fish'], ['cat'], ['fish', 'cat']]\n",
    "rdd3 = sc.parallelize(wordsList)\n",
    "rdd3.flatMap(lambda line: [x for x in line]).filter(remove_cat).collect()"
   ]
  },
  {
   "cell_type": "code",
   "execution_count": 9,
   "id": "7802f6ee-c1e7-4281-ada1-de53215c38fb",
   "metadata": {},
   "outputs": [
    {
     "data": {
      "text/plain": [
       "[('fish', 3)]"
      ]
     },
     "execution_count": 9,
     "metadata": {},
     "output_type": "execute_result"
    }
   ],
   "source": [
    "def remove_cat(animal):\n",
    "    return (animal != 'cat')\n",
    "\n",
    "wordsList = [['fish', 'fish'], ['cat'], ['fish', 'cat']]\n",
    "rdd = sc.parallelize(wordsList)\n",
    "rdd.flatMap(lambda line: [x for x in line]).filter(remove_cat).map(lambda fish: (fish, 1)).groupByKey().mapValues(lambda x : sum(x)).collect()"
   ]
  },
  {
   "cell_type": "code",
   "execution_count": 10,
   "id": "f922b488-9d37-43a1-b614-7b4c5fd7a5e0",
   "metadata": {},
   "outputs": [
    {
     "data": {
      "text/plain": [
       "[('apple', 1), ('banana', 1), ('cacao', 1)]"
      ]
     },
     "execution_count": 10,
     "metadata": {},
     "output_type": "execute_result"
    }
   ],
   "source": [
    "rdd = sc.parallelize([(\"apple\", 1), (\"banana\",1), (\"cacao\", 1)])\n",
    "sorted(rdd.groupByKey().mapValues(len).collect())"
   ]
  },
  {
   "cell_type": "code",
   "execution_count": 11,
   "id": "ef4a8a8c-8aef-4fa5-a110-7affe09481e0",
   "metadata": {},
   "outputs": [
    {
     "data": {
      "text/plain": [
       "[('a', 3), ('b', 3), ('c', 3)]"
      ]
     },
     "execution_count": 11,
     "metadata": {},
     "output_type": "execute_result"
    }
   ],
   "source": [
    "rdd = sc.parallelize([(\"a\", [\"apple\", \"acorn\", \"apricot\"]), (\"b\", [\"banana\", \"bean\", \"broccoli\"]), (\"c\", [\"cacao\", \"coconut\", \"chestnut\"])])\n",
    "def f(x):\n",
    "    return len(x)\n",
    "\n",
    "rdd.mapValues(f).collect()"
   ]
  },
  {
   "cell_type": "code",
   "execution_count": 12,
   "id": "d6ff8e5c-9ae5-470c-a7c0-a0991af03f86",
   "metadata": {},
   "outputs": [
    {
     "data": {
      "text/plain": [
       "[('fish', 3)]"
      ]
     },
     "execution_count": 12,
     "metadata": {},
     "output_type": "execute_result"
    }
   ],
   "source": [
    "def remove_cat(animal):\n",
    "    return (animal != 'cat')\n",
    "\n",
    "wordsList = [['fish', 'fish'], ['cat'], ['fish', 'cat']]\n",
    "rdd = sc.parallelize(wordsList)\n",
    "rdd.flatMap(lambda line: [x for x in line]).filter(remove_cat).map(lambda ele: (ele, 1)).reduceByKey(lambda x, y : x + y).collect()"
   ]
  },
  {
   "cell_type": "code",
   "execution_count": 13,
   "id": "5982b5cc-3228-40f2-a3d0-a3d129dcdc99",
   "metadata": {},
   "outputs": [
    {
     "name": "stdout",
     "output_type": "stream",
     "text": [
      "defaultdict(<class 'int'>, {'fish': 3, 'cat': 2})\n"
     ]
    }
   ],
   "source": [
    "wordsList = [['fish', 'fish'], ['cat'], ['fish', 'cat']]\n",
    "rdd = sc.parallelize(wordsList)\n",
    "output = rdd.flatMap(lambda line: [x for x in line]).countByValue()\n",
    "\n",
    "print(output)"
   ]
  },
  {
   "cell_type": "code",
   "execution_count": 14,
   "id": "708b2653-2984-48f2-8e2d-8da7f537c3a3",
   "metadata": {},
   "outputs": [],
   "source": [
    "rdd1 = sc.parallelize(range(0,100))\n",
    "rdd1.saveAsTextFile('./result/basic1/range_output')"
   ]
  }
 ],
 "metadata": {
  "kernelspec": {
   "display_name": "Python 3 (ipykernel)",
   "language": "python",
   "name": "python3"
  },
  "language_info": {
   "codemirror_mode": {
    "name": "ipython",
    "version": 3
   },
   "file_extension": ".py",
   "mimetype": "text/x-python",
   "name": "python",
   "nbconvert_exporter": "python",
   "pygments_lexer": "ipython3",
   "version": "3.10.12"
  }
 },
 "nbformat": 4,
 "nbformat_minor": 5
}
