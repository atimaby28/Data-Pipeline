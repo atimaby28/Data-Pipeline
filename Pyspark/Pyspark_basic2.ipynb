{
 "cells": [
  {
   "cell_type": "code",
   "execution_count": null,
   "id": "e39de075-61cb-423e-8107-7ccbbf95b32a",
   "metadata": {},
   "outputs": [],
   "source": [
    "import sys\n",
    "print(sys.version)"
   ]
  },
  {
   "cell_type": "code",
   "execution_count": 1,
   "id": "01c557dc-fe15-4455-ab9c-af9dcc2bc840",
   "metadata": {},
   "outputs": [],
   "source": [
    "import os\n",
    "os.environ[\"SPARK_HOME\"] = \"/home/atimaby28/spark-3.5.0-bin-hadoop3\""
   ]
  },
  {
   "cell_type": "code",
   "execution_count": 2,
   "id": "5e4ed3f2-5ee3-44f1-9180-8a129a4869b5",
   "metadata": {},
   "outputs": [
    {
     "name": "stderr",
     "output_type": "stream",
     "text": [
      "24/02/12 15:42:23 WARN Utils: Your hostname, bigdata-project resolves to a loopback address: 127.0.1.1; using 192.168.64.7 instead (on interface enp0s1)\n",
      "24/02/12 15:42:23 WARN Utils: Set SPARK_LOCAL_IP if you need to bind to another address\n",
      "Setting default log level to \"WARN\".\n",
      "To adjust logging level use sc.setLogLevel(newLevel). For SparkR, use setLogLevel(newLevel).\n",
      "24/02/12 15:42:23 WARN NativeCodeLoader: Unable to load native-hadoop library for your platform... using builtin-java classes where applicable\n"
     ]
    }
   ],
   "source": [
    "import pyspark\n",
    "sc = pyspark.SparkContext(appName=\"SparkBasic2\")"
   ]
  },
  {
   "cell_type": "code",
   "execution_count": 3,
   "id": "5b62a327-8eba-47c4-aa51-0cfa7db2b4d8",
   "metadata": {},
   "outputs": [],
   "source": [
    "import findspark\n",
    "findspark.init()"
   ]
  },
  {
   "cell_type": "code",
   "execution_count": 4,
   "id": "89c309f8-d208-4e4e-a1c4-cac20447228d",
   "metadata": {},
   "outputs": [
    {
     "name": "stderr",
     "output_type": "stream",
     "text": [
      "                                                                                \r"
     ]
    },
    {
     "data": {
      "text/plain": [
       "[('cat', 2), ('fish', 2), ('puppy', 1)]"
      ]
     },
     "execution_count": 4,
     "metadata": {},
     "output_type": "execute_result"
    }
   ],
   "source": [
    "wordList = ['fish', 'cat', 'puppy', 'fish', 'cat']\n",
    "wordsRDD = sc.parallelize(wordList)\n",
    "\n",
    "outputReduce = wordsRDD.map(lambda x : (x,1)).reduceByKey(lambda x,y : x + y)\n",
    "\n",
    "outputReduce.collect()"
   ]
  },
  {
   "cell_type": "code",
   "execution_count": 5,
   "id": "55b3b0b3-f97d-4ab7-a90a-e44c4c1db96a",
   "metadata": {},
   "outputs": [
    {
     "data": {
      "text/plain": [
       "[(0, ('ALEX', 'Writing')), (1, ('BERT', 'Swimming')), (3, ('DON', 'Reading'))]"
      ]
     },
     "execution_count": 5,
     "metadata": {},
     "output_type": "execute_result"
    }
   ],
   "source": [
    "users = [(0, \"ALEX\"), (1, \"BERT\"), (2, \"CURT\"), (3, \"DON\")]\n",
    "subs = [(0, \"Writing\"), (3, \"Reading\"), (1, \"Swimming\")]\n",
    "\n",
    "usersRDD = sc.parallelize(users)\n",
    "subsRDD = sc.parallelize(subs)\n",
    "\n",
    "mergedRDD = usersRDD.rightOuterJoin(subsRDD)\n",
    "mergedRDD.collect()"
   ]
  },
  {
   "cell_type": "code",
   "execution_count": 6,
   "id": "86731ef7-6e3d-4d1c-ab38-8b76a4871e5d",
   "metadata": {},
   "outputs": [
    {
     "data": {
      "text/plain": [
       "['ALEX likes Writing', 'BERT likes Swimming', 'DON likes Reading']"
      ]
     },
     "execution_count": 6,
     "metadata": {},
     "output_type": "execute_result"
    }
   ],
   "source": [
    "mergedRDD.map(lambda value : value[1][0] + \" likes \" + value[1][1]).collect()"
   ]
  },
  {
   "cell_type": "code",
   "execution_count": 7,
   "id": "98f4e389-7bde-4295-8820-d4a91fc1577e",
   "metadata": {},
   "outputs": [
    {
     "data": {
      "text/plain": [
       "[{'name': 'Sparky The Bear', 'lovePandas': True},\n",
       " {'name': 'Holden'},\n",
       " {'name': 'Sparky The Bear',\n",
       "  'lovePandas': True,\n",
       "  'knows': {'friends': ['holden']}}]"
      ]
     },
     "execution_count": 7,
     "metadata": {},
     "output_type": "execute_result"
    }
   ],
   "source": [
    "import json\n",
    "\n",
    "path = \"/home/atimaby28/pyspark_example/data/\"\n",
    "pandasInput = sc.textFile(path + \"pandas.json\")\n",
    "\n",
    "pandasJson = pandasInput.map(lambda x : json.loads(x))\n",
    "pandasJson.collect()"
   ]
  },
  {
   "cell_type": "code",
   "execution_count": 8,
   "id": "f0958a3c-b5cb-48b5-b90b-cfa6940daae2",
   "metadata": {},
   "outputs": [
    {
     "data": {
      "text/plain": [
       "['{\"name\": \"Sparky The Bear\", \"lovePandas\": true}',\n",
       " '{\"name\": \"Sparky The Bear\", \"lovePandas\": true, \"knows\": {\"friends\": [\"holden\"]}}']"
      ]
     },
     "execution_count": 8,
     "metadata": {},
     "output_type": "execute_result"
    }
   ],
   "source": [
    "def lovePandas(line):\n",
    "    k = 'lovePandas'\n",
    "    if k in line and line[k]:\n",
    "        return True\n",
    "    return False\n",
    "\n",
    "output = pandasJson.filter(lovePandas).map(lambda x : json.dumps(x))\n",
    "output.collect()"
   ]
  },
  {
   "cell_type": "code",
   "execution_count": 9,
   "id": "30c98ba1-f7fc-4da6-a049-ec7e42cf8b47",
   "metadata": {},
   "outputs": [],
   "source": [
    "output.saveAsTextFile(\"./result/basic2/output_pandas\")"
   ]
  }
 ],
 "metadata": {
  "kernelspec": {
   "display_name": "Python 3 (ipykernel)",
   "language": "python",
   "name": "python3"
  },
  "language_info": {
   "codemirror_mode": {
    "name": "ipython",
    "version": 3
   },
   "file_extension": ".py",
   "mimetype": "text/x-python",
   "name": "python",
   "nbconvert_exporter": "python",
   "pygments_lexer": "ipython3",
   "version": "3.10.12"
  }
 },
 "nbformat": 4,
 "nbformat_minor": 5
}
