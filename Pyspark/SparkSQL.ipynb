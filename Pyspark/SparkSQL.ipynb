{
 "cells": [
  {
   "cell_type": "code",
   "execution_count": 1,
   "id": "194bc5c1-312e-4cea-8d64-3771a2826933",
   "metadata": {},
   "outputs": [
    {
     "name": "stderr",
     "output_type": "stream",
     "text": [
      "24/02/12 15:44:32 WARN Utils: Your hostname, bigdata-project resolves to a loopback address: 127.0.1.1; using 192.168.64.7 instead (on interface enp0s1)\n",
      "24/02/12 15:44:32 WARN Utils: Set SPARK_LOCAL_IP if you need to bind to another address\n",
      "Setting default log level to \"WARN\".\n",
      "To adjust logging level use sc.setLogLevel(newLevel). For SparkR, use setLogLevel(newLevel).\n",
      "24/02/12 15:44:32 WARN NativeCodeLoader: Unable to load native-hadoop library for your platform... using builtin-java classes where applicable\n"
     ]
    }
   ],
   "source": [
    "import os\n",
    "os.environ[\"SPARK_HOME\"] = \"/home/atimaby28/spark-3.5.0-bin-hadoop3\"\n",
    "\n",
    "import findspark\n",
    "findspark.init()\n",
    "\n",
    "import pyspark\n",
    "sc = pyspark.SparkContext(appName=\"SparkSQL\")"
   ]
  },
  {
   "cell_type": "code",
   "execution_count": 2,
   "id": "fd3e96fb-7f74-4ec5-baf0-a66ce330216d",
   "metadata": {},
   "outputs": [
    {
     "name": "stderr",
     "output_type": "stream",
     "text": [
      "/home/atimaby28/spark-3.5.0-bin-hadoop3/python/pyspark/sql/context.py:113: FutureWarning: Deprecated in 3.0.0. Use SparkSession.builder.getOrCreate() instead.\n",
      "  warnings.warn(\n"
     ]
    }
   ],
   "source": [
    "from pyspark.sql import SQLContext\n",
    "sqlContext = SQLContext(sc)"
   ]
  },
  {
   "cell_type": "code",
   "execution_count": 3,
   "id": "3176fb69-3936-4a74-9e69-574f084bc775",
   "metadata": {},
   "outputs": [],
   "source": [
    "path = \"/home/atimaby28/pyspark_example/data/\"\n",
    "file_name = path + \"wb.json\""
   ]
  },
  {
   "cell_type": "code",
   "execution_count": 4,
   "id": "5e610497-9df3-40e4-98f7-fc3914d5a66e",
   "metadata": {},
   "outputs": [
    {
     "name": "stderr",
     "output_type": "stream",
     "text": [
      "                                                                                \r"
     ]
    }
   ],
   "source": [
    "df = sqlContext.read.json(file_name)"
   ]
  },
  {
   "cell_type": "code",
   "execution_count": 5,
   "id": "7a552988-72d1-439f-a103-c86918bb571c",
   "metadata": {},
   "outputs": [
    {
     "name": "stdout",
     "output_type": "stream",
     "text": [
      "root\n",
      " |-- _id: struct (nullable = true)\n",
      " |    |-- $oid: string (nullable = true)\n",
      " |-- approvalfy: string (nullable = true)\n",
      " |-- board_approval_month: string (nullable = true)\n",
      " |-- boardapprovaldate: string (nullable = true)\n",
      " |-- borrower: string (nullable = true)\n",
      " |-- closingdate: string (nullable = true)\n",
      " |-- country_namecode: string (nullable = true)\n",
      " |-- countrycode: string (nullable = true)\n",
      " |-- countryname: string (nullable = true)\n",
      " |-- countryshortname: string (nullable = true)\n",
      " |-- docty: string (nullable = true)\n",
      " |-- envassesmentcategorycode: string (nullable = true)\n",
      " |-- grantamt: long (nullable = true)\n",
      " |-- ibrdcommamt: long (nullable = true)\n",
      " |-- id: string (nullable = true)\n",
      " |-- idacommamt: long (nullable = true)\n",
      " |-- impagency: string (nullable = true)\n",
      " |-- lendinginstr: string (nullable = true)\n",
      " |-- lendinginstrtype: string (nullable = true)\n",
      " |-- lendprojectcost: long (nullable = true)\n",
      " |-- majorsector_percent: array (nullable = true)\n",
      " |    |-- element: struct (containsNull = true)\n",
      " |    |    |-- Name: string (nullable = true)\n",
      " |    |    |-- Percent: long (nullable = true)\n",
      " |-- mjsector_namecode: array (nullable = true)\n",
      " |    |-- element: struct (containsNull = true)\n",
      " |    |    |-- code: string (nullable = true)\n",
      " |    |    |-- name: string (nullable = true)\n",
      " |-- mjtheme: array (nullable = true)\n",
      " |    |-- element: string (containsNull = true)\n",
      " |-- mjtheme_namecode: array (nullable = true)\n",
      " |    |-- element: struct (containsNull = true)\n",
      " |    |    |-- code: string (nullable = true)\n",
      " |    |    |-- name: string (nullable = true)\n",
      " |-- mjthemecode: string (nullable = true)\n",
      " |-- prodline: string (nullable = true)\n",
      " |-- prodlinetext: string (nullable = true)\n",
      " |-- productlinetype: string (nullable = true)\n",
      " |-- project_abstract: struct (nullable = true)\n",
      " |    |-- cdata: string (nullable = true)\n",
      " |-- project_name: string (nullable = true)\n",
      " |-- projectdocs: array (nullable = true)\n",
      " |    |-- element: struct (containsNull = true)\n",
      " |    |    |-- DocDate: string (nullable = true)\n",
      " |    |    |-- DocType: string (nullable = true)\n",
      " |    |    |-- DocTypeDesc: string (nullable = true)\n",
      " |    |    |-- DocURL: string (nullable = true)\n",
      " |    |    |-- EntityID: string (nullable = true)\n",
      " |-- projectfinancialtype: string (nullable = true)\n",
      " |-- projectstatusdisplay: string (nullable = true)\n",
      " |-- regionname: string (nullable = true)\n",
      " |-- sector: array (nullable = true)\n",
      " |    |-- element: struct (containsNull = true)\n",
      " |    |    |-- Name: string (nullable = true)\n",
      " |-- sector1: struct (nullable = true)\n",
      " |    |-- Name: string (nullable = true)\n",
      " |    |-- Percent: long (nullable = true)\n",
      " |-- sector2: struct (nullable = true)\n",
      " |    |-- Name: string (nullable = true)\n",
      " |    |-- Percent: long (nullable = true)\n",
      " |-- sector3: struct (nullable = true)\n",
      " |    |-- Name: string (nullable = true)\n",
      " |    |-- Percent: long (nullable = true)\n",
      " |-- sector4: struct (nullable = true)\n",
      " |    |-- Name: string (nullable = true)\n",
      " |    |-- Percent: long (nullable = true)\n",
      " |-- sector_namecode: array (nullable = true)\n",
      " |    |-- element: struct (containsNull = true)\n",
      " |    |    |-- code: string (nullable = true)\n",
      " |    |    |-- name: string (nullable = true)\n",
      " |-- sectorcode: string (nullable = true)\n",
      " |-- source: string (nullable = true)\n",
      " |-- status: string (nullable = true)\n",
      " |-- supplementprojectflg: string (nullable = true)\n",
      " |-- theme1: struct (nullable = true)\n",
      " |    |-- Name: string (nullable = true)\n",
      " |    |-- Percent: long (nullable = true)\n",
      " |-- theme_namecode: array (nullable = true)\n",
      " |    |-- element: struct (containsNull = true)\n",
      " |    |    |-- code: string (nullable = true)\n",
      " |    |    |-- name: string (nullable = true)\n",
      " |-- themecode: string (nullable = true)\n",
      " |-- totalamt: long (nullable = true)\n",
      " |-- totalcommamt: long (nullable = true)\n",
      " |-- url: string (nullable = true)\n",
      "\n"
     ]
    }
   ],
   "source": [
    "df.printSchema()"
   ]
  },
  {
   "cell_type": "code",
   "execution_count": 6,
   "id": "4dcf0cab-5441-41d4-b239-4742385f4de4",
   "metadata": {},
   "outputs": [],
   "source": [
    "df_sigh = sqlContext.read.format(\"com.databricks.spark.csv\").option(\"header\", \"true\").option(\"inferSchema\", \"true\").load(file_name)"
   ]
  },
  {
   "cell_type": "code",
   "execution_count": 7,
   "id": "1f663bbe-342c-44d4-9beb-d4688712eed0",
   "metadata": {},
   "outputs": [
    {
     "data": {
      "text/plain": [
       "DataFrame[{ \"_id\" : { \"$oid\" : \"52b213b38594d8a2be17c780\" }: string,  \"approvalfy\" : 1999: string,  \"board_approval_month\" : \"November\": string,  \"boardapprovaldate\" : \"2013-11-12T00:00:00Z\": string,  \"borrower\" : \"FEDERAL DEMOCRATIC REPUBLIC OF ETHIOPIA\": string,  \"closingdate\" : \"2018-07-07T00:00:00Z\": string,  \"country_namecode\" : \"Federal Democratic Republic of Ethiopia!$!ET\": string,  \"countrycode\" : \"ET\": string,  \"countryname\" : \"Federal Democratic Republic of Ethiopia\": string,  \"countryshortname\" : \"Ethiopia\": string,  \"docty\" : \"Project Information Document: string, Indigenous Peoples Plan: string, Project Information Document\": string,  \"envassesmentcategorycode\" : \"C\": string,  \"grantamt\" : 0: string,  \"ibrdcommamt\" : 0: string,  \"id\" : \"P129828\": string,  \"idacommamt\" : 130000000: string,  \"impagency\" : \"MINISTRY OF EDUCATION\": string,  \"lendinginstr\" : \"Investment Project Financing\": string,  \"lendinginstrtype\" : \"IN\": string,  \"lendprojectcost\" : 550000000: string,  \"majorsector_percent\" : [ { \"Name\" : \"Education\": string,  \"Percent\" : 46 }23: string,  { \"Name\" : \"Education\"24: string,  \"Percent\" : 26 }25: string,  { \"Name\" : \"Public Administration26: string,  Law27: string,  and Justice\"28: string,  \"Percent\" : 16 }29: string,  { \"Name\" : \"Education\"30: string,  \"Percent\" : 12 } ]: string,  \"mjsector_namecode\" : [ { \"name\" : \"Education\": string,  \"code\" : \"EX\" }33: string,  { \"name\" : \"Education\"34: string,  \"code\" : \"EX\" }35: string,  { \"name\" : \"Public Administration36: string,  Law37: string,  and Justice\"38: string,  \"code\" : \"BX\" }: string,  { \"name\" : \"Education\"40: string,  \"code\" : \"EX\" } ]: string,  \"mjtheme\" : [ \"Human development\" ]: string,  \"mjtheme_namecode\" : [ { \"name\" : \"Human development\": string,  \"code\" : \"8\" }: string,  { \"name\" : \"\": string,  \"code\" : \"11\" } ]: string,  \"mjthemecode\" : \"8: string, 11\": string,  \"prodline\" : \"PE\": string,  \"prodlinetext\" : \"IBRD/IDA\": string,  \"productlinetype\" : \"L\": string,  \"project_abstract\" : { \"cdata\" : \"The development objective of the Second Phase of General Education Quality Improvement Project for Ethiopia is to improve learning conditions in primary and secondary schools and strengthen institutions at different levels of educational administration. The project has six components. The first component is curriculum: string,  textbooks: string,  assessment: string,  examinations: string,  and inspection. This component will support improvement of learning conditions in grades KG-12 by providing increased access to teaching and learning materials and through improvements to the curriculum by assessing the strengths and weaknesses of the current curriculum. This component has following four sub-components: (i) curriculum reform and implementation; (ii) teaching and learning materials; (iii) assessment and examinations; and (iv) inspection. The second component is teacher development program (TDP). This component will support improvements in learning conditions in both primary and secondary schools by advancing the quality of teaching in general education through: (a) enhancing the training of pre-service teachers in teacher education institutions; and (b) improving the quality of in-service teacher training. This component has following three sub-components: (i) pre-service teacher training; (ii) in-service teacher training; and (iii) licensing and relicensing of teachers and school leaders. The third component is school improvement plan. This component will support the strengthening of school planning in order to improve learning outcomes: string,  and to partly fund the school improvement plans through school grants. It has following two sub-components: (i) school improvement plan; and (ii) school grants. The fourth component is management and capacity building: string,  including education management information systems (EMIS). This component will support management and capacity building aspect of the project. This component has following three sub-components: (i) capacity building for education planning and management; (ii) capacity building for school planning and management; and (iii) EMIS. The fifth component is improving the quality of learning and teaching in secondary schools and universities through the use of information and communications technology (ICT). It has following five sub-components: (i) national policy and institution for ICT in general education; (ii) national ICT infrastructure improvement plan for general education; (iii) develop an integrated monitoring: string,  evaluation: string,  and learning system specifically for the ICT component; (iv) teacher professional development in the use of ICT; and (v) provision of limited number of e-Braille display readers with the possibility to scale up to all secondary education schools based on the successful implementation and usage of the readers. The sixth component is program coordination: string,  monitoring and evaluation: string,  and communication. It will support institutional strengthening by developing capacities in all aspects of program coordination: string,  monitoring and evaluation; a new sub-component on communications will support information sharing for better management and accountability. It has following three sub-components: (i) program coordination; (ii) monitoring and evaluation (M and E); and (iii) communication.\" }: string,  \"project_name\" : \"Ethiopia General Education Quality Improvement Project II\": string,  \"projectdocs\" : [ { \"DocTypeDesc\" : \"Project Information Document (PID): string,   Vol.\"66: string,  \"DocType\" : \"PID\"67: string,  \"EntityID\" : \"090224b081e545fb_1_0\": string,  \"DocURL\" : \"http://www-wds.worldbank.org/servlet/WDSServlet?pcont=details&eid=090224b081e545fb_1_0\": string,  \"DocDate\" : \"28-AUG-2013\" }: string,  { \"DocTypeDesc\" : \"Indigenous Peoples Plan (IP): string,   Vol.1 of 1\": string,  \"DocType\" : \"IP\": string,  \"EntityID\" : \"000442464_20130920111729\": string,  \"DocURL\" : \"http://www-wds.worldbank.org/servlet/WDSServlet?pcont=details&eid=000442464_20130920111729\": string,  \"DocDate\" : \"01-JUL-2013\" }: string,  { \"DocTypeDesc\" : \"Project Information Document (PID): string,   Vol.\"78: string,  \"DocType\" : \"PID\"79: string,  \"EntityID\" : \"090224b0817b19e2_1_0\": string,  \"DocURL\" : \"http://www-wds.worldbank.org/servlet/WDSServlet?pcont=details&eid=090224b0817b19e2_1_0\": string,  \"DocDate\" : \"22-NOV-2012\" } ]: string,  \"projectfinancialtype\" : \"IDA\": string,  \"projectstatusdisplay\" : \"Active\": string,  \"regionname\" : \"Africa\": string,  \"sector\" : [ { \"Name\" : \"Primary education\" }: string,  { \"Name\" : \"Secondary education\" }: string,  { \"Name\" : \"Public administration- Other social services\" }: string,  { \"Name\" : \"Tertiary education\" } ]: string,  \"sector1\" : { \"Name\" : \"Primary education\": string,  \"Percent\" : 46 }91: string,  \"sector2\" : { \"Name\" : \"Secondary education\": string,  \"Percent\" : 26 }93: string,  \"sector3\" : { \"Name\" : \"Public administration- Other social services\": string,  \"Percent\" : 16 }95: string,  \"sector4\" : { \"Name\" : \"Tertiary education\": string,  \"Percent\" : 12 }: string,  \"sector_namecode\" : [ { \"name\" : \"Primary education\": string,  \"code\" : \"EP\" }: string,  { \"name\" : \"Secondary education\": string,  \"code\" : \"ES\" }: string,  { \"name\" : \"Public administration- Other social services\": string,  \"code\" : \"BS\" }: string,  { \"name\" : \"Tertiary education\": string,  \"code\" : \"ET\" } ]: string,  \"sectorcode\" : \"ET: string, BS: string, ES: string, EP\": string,  \"source\" : \"IBRD\": string,  \"status\" : \"Active\": string,  \"supplementprojectflg\" : \"N\": string,  \"theme1\" : { \"Name\" : \"Education for all\": string,  \"Percent\" : 100 }: string,  \"theme_namecode\" : [ { \"name\" : \"Education for all\": string,  \"code\" : \"65\" } ]: string,  \"themecode\" : \"65\": string,  \"totalamt\" : 130000000: string,  \"totalcommamt\" : 130000000: string,  \"url\" : \"http://www.worldbank.org/projects/P129828/ethiopia-general-education-quality-improvement-project-ii?lang=en\" }: string]"
      ]
     },
     "execution_count": 7,
     "metadata": {},
     "output_type": "execute_result"
    }
   ],
   "source": [
    "df_sigh"
   ]
  },
  {
   "cell_type": "code",
   "execution_count": 8,
   "id": "c382d00a-56b1-4589-aae4-3a070e448cd6",
   "metadata": {},
   "outputs": [
    {
     "name": "stderr",
     "output_type": "stream",
     "text": [
      "/home/atimaby28/spark-3.5.0-bin-hadoop3/python/pyspark/sql/dataframe.py:329: FutureWarning: Deprecated in 2.0, use createOrReplaceTempView instead.\n",
      "  warnings.warn(\"Deprecated in 2.0, use createOrReplaceTempView instead.\", FutureWarning)\n",
      "24/02/12 15:44:44 WARN SparkStringUtils: Truncated the string representation of a plan since it was too large. This behavior can be adjusted by setting 'spark.sql.debug.maxToStringFields'.\n"
     ]
    }
   ],
   "source": [
    "df.registerTempTable(\"world_bank\")"
   ]
  },
  {
   "cell_type": "code",
   "execution_count": 9,
   "id": "2ecca344-e26c-41a9-b9ea-a7a306e448ca",
   "metadata": {},
   "outputs": [
    {
     "name": "stdout",
     "output_type": "stream",
     "text": [
      "+--------------------+--------------------+--------------------+\n",
      "|                 _id|board_approval_month|   boardapprovaldate|\n",
      "+--------------------+--------------------+--------------------+\n",
      "|{52b213b38594d8a2...|            November|2013-11-12T00:00:00Z|\n",
      "|{52b213b38594d8a2...|            November|2013-11-04T00:00:00Z|\n",
      "|{52b213b38594d8a2...|            November|2013-11-01T00:00:00Z|\n",
      "|{52b213b38594d8a2...|             October|2013-10-31T00:00:00Z|\n",
      "|{52b213b38594d8a2...|             October|2013-10-31T00:00:00Z|\n",
      "|{52b213b38594d8a2...|             October|2013-10-31T00:00:00Z|\n",
      "|{52b213b38594d8a2...|             October|2013-10-29T00:00:00Z|\n",
      "|{52b213b38594d8a2...|             October|2013-10-29T00:00:00Z|\n",
      "|{52b213b38594d8a2...|             October|2013-10-29T00:00:00Z|\n",
      "|{52b213b38594d8a2...|             October|2013-10-29T00:00:00Z|\n",
      "|{52b213b38594d8a2...|             October|2013-10-25T00:00:00Z|\n",
      "|{52b213b38594d8a2...|             October|2013-10-25T00:00:00Z|\n",
      "|{52b213b38594d8a2...|             October|2013-10-24T00:00:00Z|\n",
      "|{52b213b38594d8a2...|             October|2013-10-22T00:00:00Z|\n",
      "|{52b213b38594d8a2...|             October|2013-10-22T00:00:00Z|\n",
      "|{52b213b38594d8a2...|             October|2013-10-17T00:00:00Z|\n",
      "|{52b213b38594d8a2...|             October|2013-10-17T00:00:00Z|\n",
      "|{52b213b38594d8a2...|             October|2013-10-16T00:00:00Z|\n",
      "|{52b213b38594d8a2...|             October|2013-10-16T00:00:00Z|\n",
      "|{52b213b38594d8a2...|             October|2013-10-10T00:00:00Z|\n",
      "+--------------------+--------------------+--------------------+\n",
      "only showing top 20 rows\n",
      "\n"
     ]
    }
   ],
   "source": [
    "df_wb = sqlContext.sql(\"SELECT _id, board_approval_month, boardapprovaldate FROM world_bank\")\n",
    "df_wb.show()"
   ]
  },
  {
   "cell_type": "code",
   "execution_count": 10,
   "id": "aacfd9b2-74a8-4290-b465-30ec439cc3a9",
   "metadata": {},
   "outputs": [
    {
     "data": {
      "text/html": [
       "<div>\n",
       "<style scoped>\n",
       "    .dataframe tbody tr th:only-of-type {\n",
       "        vertical-align: middle;\n",
       "    }\n",
       "\n",
       "    .dataframe tbody tr th {\n",
       "        vertical-align: top;\n",
       "    }\n",
       "\n",
       "    .dataframe thead th {\n",
       "        text-align: right;\n",
       "    }\n",
       "</style>\n",
       "<table border=\"1\" class=\"dataframe\">\n",
       "  <thead>\n",
       "    <tr style=\"text-align: right;\">\n",
       "      <th></th>\n",
       "      <th>_id</th>\n",
       "      <th>approvalfy</th>\n",
       "      <th>board_approval_month</th>\n",
       "      <th>boardapprovaldate</th>\n",
       "      <th>borrower</th>\n",
       "      <th>closingdate</th>\n",
       "      <th>country_namecode</th>\n",
       "      <th>countrycode</th>\n",
       "      <th>countryname</th>\n",
       "      <th>countryshortname</th>\n",
       "      <th>...</th>\n",
       "      <th>sectorcode</th>\n",
       "      <th>source</th>\n",
       "      <th>status</th>\n",
       "      <th>supplementprojectflg</th>\n",
       "      <th>theme1</th>\n",
       "      <th>theme_namecode</th>\n",
       "      <th>themecode</th>\n",
       "      <th>totalamt</th>\n",
       "      <th>totalcommamt</th>\n",
       "      <th>url</th>\n",
       "    </tr>\n",
       "  </thead>\n",
       "  <tbody>\n",
       "    <tr>\n",
       "      <th>0</th>\n",
       "      <td>(52b213b38594d8a2be17c780,)</td>\n",
       "      <td>1999</td>\n",
       "      <td>November</td>\n",
       "      <td>2013-11-12T00:00:00Z</td>\n",
       "      <td>FEDERAL DEMOCRATIC REPUBLIC OF ETHIOPIA</td>\n",
       "      <td>2018-07-07T00:00:00Z</td>\n",
       "      <td>Federal Democratic Republic of Ethiopia!$!ET</td>\n",
       "      <td>ET</td>\n",
       "      <td>Federal Democratic Republic of Ethiopia</td>\n",
       "      <td>Ethiopia</td>\n",
       "      <td>...</td>\n",
       "      <td>ET,BS,ES,EP</td>\n",
       "      <td>IBRD</td>\n",
       "      <td>Active</td>\n",
       "      <td>N</td>\n",
       "      <td>(Education for all, 100)</td>\n",
       "      <td>[(65, Education for all)]</td>\n",
       "      <td>65</td>\n",
       "      <td>130000000</td>\n",
       "      <td>130000000</td>\n",
       "      <td>http://www.worldbank.org/projects/P129828/ethi...</td>\n",
       "    </tr>\n",
       "    <tr>\n",
       "      <th>1</th>\n",
       "      <td>(52b213b38594d8a2be17c781,)</td>\n",
       "      <td>2015</td>\n",
       "      <td>November</td>\n",
       "      <td>2013-11-04T00:00:00Z</td>\n",
       "      <td>GOVERNMENT OF TUNISIA</td>\n",
       "      <td>None</td>\n",
       "      <td>Republic of Tunisia!$!TN</td>\n",
       "      <td>TN</td>\n",
       "      <td>Republic of Tunisia</td>\n",
       "      <td>Tunisia</td>\n",
       "      <td>...</td>\n",
       "      <td>BZ,BS</td>\n",
       "      <td>IBRD</td>\n",
       "      <td>Active</td>\n",
       "      <td>N</td>\n",
       "      <td>(Other economic management, 30)</td>\n",
       "      <td>[(24, Other economic management), (54, Social ...</td>\n",
       "      <td>54,24</td>\n",
       "      <td>0</td>\n",
       "      <td>4700000</td>\n",
       "      <td>http://www.worldbank.org/projects/P144674?lang=en</td>\n",
       "    </tr>\n",
       "    <tr>\n",
       "      <th>2</th>\n",
       "      <td>(52b213b38594d8a2be17c782,)</td>\n",
       "      <td>2014</td>\n",
       "      <td>November</td>\n",
       "      <td>2013-11-01T00:00:00Z</td>\n",
       "      <td>MINISTRY OF FINANCE AND ECONOMIC DEVEL</td>\n",
       "      <td>None</td>\n",
       "      <td>Tuvalu!$!TV</td>\n",
       "      <td>TV</td>\n",
       "      <td>Tuvalu</td>\n",
       "      <td>Tuvalu</td>\n",
       "      <td>...</td>\n",
       "      <td>TI</td>\n",
       "      <td>IBRD</td>\n",
       "      <td>Active</td>\n",
       "      <td>Y</td>\n",
       "      <td>(Regional integration, 46)</td>\n",
       "      <td>[(47, Regional integration), (25, Administrati...</td>\n",
       "      <td>52,81,25,47</td>\n",
       "      <td>6060000</td>\n",
       "      <td>6060000</td>\n",
       "      <td>http://www.worldbank.org/projects/P145310?lang=en</td>\n",
       "    </tr>\n",
       "    <tr>\n",
       "      <th>3</th>\n",
       "      <td>(52b213b38594d8a2be17c783,)</td>\n",
       "      <td>2014</td>\n",
       "      <td>October</td>\n",
       "      <td>2013-10-31T00:00:00Z</td>\n",
       "      <td>MIN. OF PLANNING AND INT'L COOPERATION</td>\n",
       "      <td>None</td>\n",
       "      <td>Republic of Yemen!$!RY</td>\n",
       "      <td>RY</td>\n",
       "      <td>Republic of Yemen</td>\n",
       "      <td>Yemen, Republic of</td>\n",
       "      <td>...</td>\n",
       "      <td>JB</td>\n",
       "      <td>IBRD</td>\n",
       "      <td>Active</td>\n",
       "      <td>N</td>\n",
       "      <td>(Participation and civic engagement, 50)</td>\n",
       "      <td>[(57, Participation and civic engagement), (59...</td>\n",
       "      <td>59,57</td>\n",
       "      <td>0</td>\n",
       "      <td>1500000</td>\n",
       "      <td>http://www.worldbank.org/projects/P144665?lang=en</td>\n",
       "    </tr>\n",
       "    <tr>\n",
       "      <th>4</th>\n",
       "      <td>(52b213b38594d8a2be17c784,)</td>\n",
       "      <td>2014</td>\n",
       "      <td>October</td>\n",
       "      <td>2013-10-31T00:00:00Z</td>\n",
       "      <td>MINISTRY OF FINANCE</td>\n",
       "      <td>2019-04-30T00:00:00Z</td>\n",
       "      <td>Kingdom of Lesotho!$!LS</td>\n",
       "      <td>LS</td>\n",
       "      <td>Kingdom of Lesotho</td>\n",
       "      <td>Lesotho</td>\n",
       "      <td>...</td>\n",
       "      <td>FH,YW,YZ</td>\n",
       "      <td>IBRD</td>\n",
       "      <td>Active</td>\n",
       "      <td>N</td>\n",
       "      <td>(Export development and competitiveness, 30)</td>\n",
       "      <td>[(45, Export development and competitiveness),...</td>\n",
       "      <td>41,45</td>\n",
       "      <td>13100000</td>\n",
       "      <td>13100000</td>\n",
       "      <td>http://www.worldbank.org/projects/P144933/seco...</td>\n",
       "    </tr>\n",
       "    <tr>\n",
       "      <th>...</th>\n",
       "      <td>...</td>\n",
       "      <td>...</td>\n",
       "      <td>...</td>\n",
       "      <td>...</td>\n",
       "      <td>...</td>\n",
       "      <td>...</td>\n",
       "      <td>...</td>\n",
       "      <td>...</td>\n",
       "      <td>...</td>\n",
       "      <td>...</td>\n",
       "      <td>...</td>\n",
       "      <td>...</td>\n",
       "      <td>...</td>\n",
       "      <td>...</td>\n",
       "      <td>...</td>\n",
       "      <td>...</td>\n",
       "      <td>...</td>\n",
       "      <td>...</td>\n",
       "      <td>...</td>\n",
       "      <td>...</td>\n",
       "      <td>...</td>\n",
       "    </tr>\n",
       "    <tr>\n",
       "      <th>495</th>\n",
       "      <td>(52b213b38594d8a2be17c96f,)</td>\n",
       "      <td>2013</td>\n",
       "      <td>August</td>\n",
       "      <td>2012-08-10T00:00:00Z</td>\n",
       "      <td>THE COMPETITIVENESS COMPANY</td>\n",
       "      <td>2013-08-31T00:00:00Z</td>\n",
       "      <td>Jamaica!$!JM</td>\n",
       "      <td>JM</td>\n",
       "      <td>Jamaica</td>\n",
       "      <td>Jamaica</td>\n",
       "      <td>...</td>\n",
       "      <td>EV,AZ</td>\n",
       "      <td>IBRD</td>\n",
       "      <td>Closed</td>\n",
       "      <td>N</td>\n",
       "      <td>(Regulation and competition policy, 50)</td>\n",
       "      <td>[(40, Regulation and competition policy), (62,...</td>\n",
       "      <td>62,40</td>\n",
       "      <td>0</td>\n",
       "      <td>50000</td>\n",
       "      <td>http://www.worldbank.org/projects/P127299/tech...</td>\n",
       "    </tr>\n",
       "    <tr>\n",
       "      <th>496</th>\n",
       "      <td>(52b213b38594d8a2be17c970,)</td>\n",
       "      <td>2013</td>\n",
       "      <td>August</td>\n",
       "      <td>2012-08-09T00:00:00Z</td>\n",
       "      <td>LAO PEOPLES DEMOCRATIC REPUBLIC</td>\n",
       "      <td>2012-12-31T00:00:00Z</td>\n",
       "      <td>Lao People's Democratic Republic!$!LA</td>\n",
       "      <td>LA</td>\n",
       "      <td>Lao People's Democratic Republic</td>\n",
       "      <td>Lao People's Democratic Republic</td>\n",
       "      <td>...</td>\n",
       "      <td>YZ,JA,EZ,FZ,BC</td>\n",
       "      <td>IBRD</td>\n",
       "      <td>Closed</td>\n",
       "      <td>N</td>\n",
       "      <td>(Child health, 14)</td>\n",
       "      <td>[(63, Child health), (49, Trade facilitation a...</td>\n",
       "      <td>65,27,49,63</td>\n",
       "      <td>20000000</td>\n",
       "      <td>20000000</td>\n",
       "      <td>http://www.worldbank.org/projects/P125298/lao-...</td>\n",
       "    </tr>\n",
       "    <tr>\n",
       "      <th>497</th>\n",
       "      <td>(52b213b38594d8a2be17c971,)</td>\n",
       "      <td>2013</td>\n",
       "      <td>August</td>\n",
       "      <td>2012-08-03T00:00:00Z</td>\n",
       "      <td>GOVERNMENT OF THE REPUBLIC OF GUINEA</td>\n",
       "      <td>2014-12-31T00:00:00Z</td>\n",
       "      <td>Republic of Guinea!$!GN</td>\n",
       "      <td>GN</td>\n",
       "      <td>Republic of Guinea</td>\n",
       "      <td>Guinea</td>\n",
       "      <td>...</td>\n",
       "      <td>AB,AH,AI</td>\n",
       "      <td>IBRD</td>\n",
       "      <td>Active</td>\n",
       "      <td>N</td>\n",
       "      <td>(Global food crisis response, 100)</td>\n",
       "      <td>[(91, Global food crisis response)]</td>\n",
       "      <td>91</td>\n",
       "      <td>0</td>\n",
       "      <td>20000000</td>\n",
       "      <td>http://www.worldbank.org/projects/P128309/seco...</td>\n",
       "    </tr>\n",
       "    <tr>\n",
       "      <th>498</th>\n",
       "      <td>(52b213b38594d8a2be17c972,)</td>\n",
       "      <td>2013</td>\n",
       "      <td>August</td>\n",
       "      <td>2012-08-02T00:00:00Z</td>\n",
       "      <td>REPUBLIC OF INDONESIA</td>\n",
       "      <td>2017-09-30T00:00:00Z</td>\n",
       "      <td>Republic of Indonesia!$!ID</td>\n",
       "      <td>ID</td>\n",
       "      <td>Republic of Indonesia</td>\n",
       "      <td>Indonesia</td>\n",
       "      <td>...</td>\n",
       "      <td>YA,BL,AB</td>\n",
       "      <td>IBRD</td>\n",
       "      <td>Active</td>\n",
       "      <td>N</td>\n",
       "      <td>(Rural services and infrastructure, 85)</td>\n",
       "      <td>[(78, Rural services and infrastructure), (91,...</td>\n",
       "      <td>77,91,78</td>\n",
       "      <td>80000000</td>\n",
       "      <td>80000000</td>\n",
       "      <td>http://www.worldbank.org/projects/P117243/sust...</td>\n",
       "    </tr>\n",
       "    <tr>\n",
       "      <th>499</th>\n",
       "      <td>(52b213b38594d8a2be17c973,)</td>\n",
       "      <td>2013</td>\n",
       "      <td>August</td>\n",
       "      <td>2012-08-02T00:00:00Z</td>\n",
       "      <td>GOVERMENT OF KENYA</td>\n",
       "      <td>2018-12-31T00:00:00Z</td>\n",
       "      <td>Republic of Kenya!$!KE</td>\n",
       "      <td>KE</td>\n",
       "      <td>Republic of Kenya</td>\n",
       "      <td>Kenya</td>\n",
       "      <td>...</td>\n",
       "      <td>BV,TC</td>\n",
       "      <td>IBRD</td>\n",
       "      <td>Active</td>\n",
       "      <td>N</td>\n",
       "      <td>(Municipal governance and institution building...</td>\n",
       "      <td>[(73, Municipal governance and institution bui...</td>\n",
       "      <td>39,49,88,73</td>\n",
       "      <td>300000000</td>\n",
       "      <td>300000000</td>\n",
       "      <td>http://www.worldbank.org/projects/P126321/keny...</td>\n",
       "    </tr>\n",
       "  </tbody>\n",
       "</table>\n",
       "<p>500 rows × 50 columns</p>\n",
       "</div>"
      ],
      "text/plain": [
       "                             _id approvalfy board_approval_month  \\\n",
       "0    (52b213b38594d8a2be17c780,)       1999             November   \n",
       "1    (52b213b38594d8a2be17c781,)       2015             November   \n",
       "2    (52b213b38594d8a2be17c782,)       2014             November   \n",
       "3    (52b213b38594d8a2be17c783,)       2014              October   \n",
       "4    (52b213b38594d8a2be17c784,)       2014              October   \n",
       "..                           ...        ...                  ...   \n",
       "495  (52b213b38594d8a2be17c96f,)       2013               August   \n",
       "496  (52b213b38594d8a2be17c970,)       2013               August   \n",
       "497  (52b213b38594d8a2be17c971,)       2013               August   \n",
       "498  (52b213b38594d8a2be17c972,)       2013               August   \n",
       "499  (52b213b38594d8a2be17c973,)       2013               August   \n",
       "\n",
       "        boardapprovaldate                                 borrower  \\\n",
       "0    2013-11-12T00:00:00Z  FEDERAL DEMOCRATIC REPUBLIC OF ETHIOPIA   \n",
       "1    2013-11-04T00:00:00Z                    GOVERNMENT OF TUNISIA   \n",
       "2    2013-11-01T00:00:00Z   MINISTRY OF FINANCE AND ECONOMIC DEVEL   \n",
       "3    2013-10-31T00:00:00Z   MIN. OF PLANNING AND INT'L COOPERATION   \n",
       "4    2013-10-31T00:00:00Z                      MINISTRY OF FINANCE   \n",
       "..                    ...                                      ...   \n",
       "495  2012-08-10T00:00:00Z              THE COMPETITIVENESS COMPANY   \n",
       "496  2012-08-09T00:00:00Z          LAO PEOPLES DEMOCRATIC REPUBLIC   \n",
       "497  2012-08-03T00:00:00Z     GOVERNMENT OF THE REPUBLIC OF GUINEA   \n",
       "498  2012-08-02T00:00:00Z                    REPUBLIC OF INDONESIA   \n",
       "499  2012-08-02T00:00:00Z                       GOVERMENT OF KENYA   \n",
       "\n",
       "              closingdate                              country_namecode  \\\n",
       "0    2018-07-07T00:00:00Z  Federal Democratic Republic of Ethiopia!$!ET   \n",
       "1                    None                      Republic of Tunisia!$!TN   \n",
       "2                    None                                   Tuvalu!$!TV   \n",
       "3                    None                        Republic of Yemen!$!RY   \n",
       "4    2019-04-30T00:00:00Z                       Kingdom of Lesotho!$!LS   \n",
       "..                    ...                                           ...   \n",
       "495  2013-08-31T00:00:00Z                                  Jamaica!$!JM   \n",
       "496  2012-12-31T00:00:00Z         Lao People's Democratic Republic!$!LA   \n",
       "497  2014-12-31T00:00:00Z                       Republic of Guinea!$!GN   \n",
       "498  2017-09-30T00:00:00Z                    Republic of Indonesia!$!ID   \n",
       "499  2018-12-31T00:00:00Z                        Republic of Kenya!$!KE   \n",
       "\n",
       "    countrycode                              countryname  \\\n",
       "0            ET  Federal Democratic Republic of Ethiopia   \n",
       "1            TN                      Republic of Tunisia   \n",
       "2            TV                                   Tuvalu   \n",
       "3            RY                        Republic of Yemen   \n",
       "4            LS                       Kingdom of Lesotho   \n",
       "..          ...                                      ...   \n",
       "495          JM                                  Jamaica   \n",
       "496          LA         Lao People's Democratic Republic   \n",
       "497          GN                       Republic of Guinea   \n",
       "498          ID                    Republic of Indonesia   \n",
       "499          KE                        Republic of Kenya   \n",
       "\n",
       "                     countryshortname  ...      sectorcode source  status  \\\n",
       "0                            Ethiopia  ...     ET,BS,ES,EP   IBRD  Active   \n",
       "1                             Tunisia  ...           BZ,BS   IBRD  Active   \n",
       "2                              Tuvalu  ...              TI   IBRD  Active   \n",
       "3                  Yemen, Republic of  ...              JB   IBRD  Active   \n",
       "4                             Lesotho  ...        FH,YW,YZ   IBRD  Active   \n",
       "..                                ...  ...             ...    ...     ...   \n",
       "495                           Jamaica  ...           EV,AZ   IBRD  Closed   \n",
       "496  Lao People's Democratic Republic  ...  YZ,JA,EZ,FZ,BC   IBRD  Closed   \n",
       "497                            Guinea  ...        AB,AH,AI   IBRD  Active   \n",
       "498                         Indonesia  ...        YA,BL,AB   IBRD  Active   \n",
       "499                             Kenya  ...           BV,TC   IBRD  Active   \n",
       "\n",
       "     supplementprojectflg                                             theme1  \\\n",
       "0                       N                           (Education for all, 100)   \n",
       "1                       N                    (Other economic management, 30)   \n",
       "2                       Y                         (Regional integration, 46)   \n",
       "3                       N           (Participation and civic engagement, 50)   \n",
       "4                       N       (Export development and competitiveness, 30)   \n",
       "..                    ...                                                ...   \n",
       "495                     N            (Regulation and competition policy, 50)   \n",
       "496                     N                                 (Child health, 14)   \n",
       "497                     N                 (Global food crisis response, 100)   \n",
       "498                     N            (Rural services and infrastructure, 85)   \n",
       "499                     N  (Municipal governance and institution building...   \n",
       "\n",
       "                                        theme_namecode    themecode  \\\n",
       "0                            [(65, Education for all)]           65   \n",
       "1    [(24, Other economic management), (54, Social ...        54,24   \n",
       "2    [(47, Regional integration), (25, Administrati...  52,81,25,47   \n",
       "3    [(57, Participation and civic engagement), (59...        59,57   \n",
       "4    [(45, Export development and competitiveness),...        41,45   \n",
       "..                                                 ...          ...   \n",
       "495  [(40, Regulation and competition policy), (62,...        62,40   \n",
       "496  [(63, Child health), (49, Trade facilitation a...  65,27,49,63   \n",
       "497                [(91, Global food crisis response)]           91   \n",
       "498  [(78, Rural services and infrastructure), (91,...     77,91,78   \n",
       "499  [(73, Municipal governance and institution bui...  39,49,88,73   \n",
       "\n",
       "      totalamt totalcommamt                                                url  \n",
       "0    130000000    130000000  http://www.worldbank.org/projects/P129828/ethi...  \n",
       "1            0      4700000  http://www.worldbank.org/projects/P144674?lang=en  \n",
       "2      6060000      6060000  http://www.worldbank.org/projects/P145310?lang=en  \n",
       "3            0      1500000  http://www.worldbank.org/projects/P144665?lang=en  \n",
       "4     13100000     13100000  http://www.worldbank.org/projects/P144933/seco...  \n",
       "..         ...          ...                                                ...  \n",
       "495          0        50000  http://www.worldbank.org/projects/P127299/tech...  \n",
       "496   20000000     20000000  http://www.worldbank.org/projects/P125298/lao-...  \n",
       "497          0     20000000  http://www.worldbank.org/projects/P128309/seco...  \n",
       "498   80000000     80000000  http://www.worldbank.org/projects/P117243/sust...  \n",
       "499  300000000    300000000  http://www.worldbank.org/projects/P126321/keny...  \n",
       "\n",
       "[500 rows x 50 columns]"
      ]
     },
     "execution_count": 10,
     "metadata": {},
     "output_type": "execute_result"
    }
   ],
   "source": [
    "df.toPandas()"
   ]
  },
  {
   "cell_type": "code",
   "execution_count": 11,
   "id": "c2ddca3e-c533-41e9-aeef-e6fb87c90b08",
   "metadata": {},
   "outputs": [
    {
     "data": {
      "text/html": [
       "<div>\n",
       "<style scoped>\n",
       "    .dataframe tbody tr th:only-of-type {\n",
       "        vertical-align: middle;\n",
       "    }\n",
       "\n",
       "    .dataframe tbody tr th {\n",
       "        vertical-align: top;\n",
       "    }\n",
       "\n",
       "    .dataframe thead th {\n",
       "        text-align: right;\n",
       "    }\n",
       "</style>\n",
       "<table border=\"1\" class=\"dataframe\">\n",
       "  <thead>\n",
       "    <tr style=\"text-align: right;\">\n",
       "      <th></th>\n",
       "      <th>_id</th>\n",
       "      <th>board_approval_month</th>\n",
       "      <th>boardapprovaldate</th>\n",
       "    </tr>\n",
       "  </thead>\n",
       "  <tbody>\n",
       "    <tr>\n",
       "      <th>0</th>\n",
       "      <td>(52b213b38594d8a2be17c780,)</td>\n",
       "      <td>November</td>\n",
       "      <td>2013-11-12T00:00:00Z</td>\n",
       "    </tr>\n",
       "    <tr>\n",
       "      <th>1</th>\n",
       "      <td>(52b213b38594d8a2be17c781,)</td>\n",
       "      <td>November</td>\n",
       "      <td>2013-11-04T00:00:00Z</td>\n",
       "    </tr>\n",
       "    <tr>\n",
       "      <th>2</th>\n",
       "      <td>(52b213b38594d8a2be17c782,)</td>\n",
       "      <td>November</td>\n",
       "      <td>2013-11-01T00:00:00Z</td>\n",
       "    </tr>\n",
       "    <tr>\n",
       "      <th>3</th>\n",
       "      <td>(52b213b38594d8a2be17c783,)</td>\n",
       "      <td>October</td>\n",
       "      <td>2013-10-31T00:00:00Z</td>\n",
       "    </tr>\n",
       "    <tr>\n",
       "      <th>4</th>\n",
       "      <td>(52b213b38594d8a2be17c784,)</td>\n",
       "      <td>October</td>\n",
       "      <td>2013-10-31T00:00:00Z</td>\n",
       "    </tr>\n",
       "  </tbody>\n",
       "</table>\n",
       "</div>"
      ],
      "text/plain": [
       "                           _id board_approval_month     boardapprovaldate\n",
       "0  (52b213b38594d8a2be17c780,)             November  2013-11-12T00:00:00Z\n",
       "1  (52b213b38594d8a2be17c781,)             November  2013-11-04T00:00:00Z\n",
       "2  (52b213b38594d8a2be17c782,)             November  2013-11-01T00:00:00Z\n",
       "3  (52b213b38594d8a2be17c783,)              October  2013-10-31T00:00:00Z\n",
       "4  (52b213b38594d8a2be17c784,)              October  2013-10-31T00:00:00Z"
      ]
     },
     "execution_count": 11,
     "metadata": {},
     "output_type": "execute_result"
    }
   ],
   "source": [
    "import pandas as pd\n",
    "\n",
    "df_wb.toPandas()[:5]"
   ]
  },
  {
   "cell_type": "code",
   "execution_count": 12,
   "id": "96ef9e6e-67f7-48f0-8259-349bed0ef4d8",
   "metadata": {},
   "outputs": [
    {
     "data": {
      "text/html": [
       "<div>\n",
       "<style scoped>\n",
       "    .dataframe tbody tr th:only-of-type {\n",
       "        vertical-align: middle;\n",
       "    }\n",
       "\n",
       "    .dataframe tbody tr th {\n",
       "        vertical-align: top;\n",
       "    }\n",
       "\n",
       "    .dataframe thead th {\n",
       "        text-align: right;\n",
       "    }\n",
       "</style>\n",
       "<table border=\"1\" class=\"dataframe\">\n",
       "  <thead>\n",
       "    <tr style=\"text-align: right;\">\n",
       "      <th></th>\n",
       "      <th>regionname</th>\n",
       "      <th>project_count</th>\n",
       "    </tr>\n",
       "  </thead>\n",
       "  <tbody>\n",
       "    <tr>\n",
       "      <th>0</th>\n",
       "      <td>Africa</td>\n",
       "      <td>152</td>\n",
       "    </tr>\n",
       "    <tr>\n",
       "      <th>1</th>\n",
       "      <td>East Asia and Pacific</td>\n",
       "      <td>100</td>\n",
       "    </tr>\n",
       "    <tr>\n",
       "      <th>2</th>\n",
       "      <td>Europe and Central Asia</td>\n",
       "      <td>74</td>\n",
       "    </tr>\n",
       "    <tr>\n",
       "      <th>3</th>\n",
       "      <td>South Asia</td>\n",
       "      <td>65</td>\n",
       "    </tr>\n",
       "    <tr>\n",
       "      <th>4</th>\n",
       "      <td>Middle East and North Africa</td>\n",
       "      <td>54</td>\n",
       "    </tr>\n",
       "    <tr>\n",
       "      <th>5</th>\n",
       "      <td>Latin America and Caribbean</td>\n",
       "      <td>53</td>\n",
       "    </tr>\n",
       "    <tr>\n",
       "      <th>6</th>\n",
       "      <td>Other</td>\n",
       "      <td>2</td>\n",
       "    </tr>\n",
       "  </tbody>\n",
       "</table>\n",
       "</div>"
      ],
      "text/plain": [
       "                     regionname  project_count\n",
       "0                        Africa            152\n",
       "1         East Asia and Pacific            100\n",
       "2       Europe and Central Asia             74\n",
       "3                    South Asia             65\n",
       "4  Middle East and North Africa             54\n",
       "5   Latin America and Caribbean             53\n",
       "6                         Other              2"
      ]
     },
     "execution_count": 12,
     "metadata": {},
     "output_type": "execute_result"
    }
   ],
   "source": [
    "query = \"\"\"\n",
    "SELECT\n",
    "    regionname,\n",
    "    count(*) as project_count\n",
    "FROM\n",
    "    world_bank\n",
    "GROUP BY\n",
    "    regionname\n",
    "ORDER BY\n",
    "    count(*) DESC\n",
    "\"\"\"\n",
    "\n",
    "sqlContext.sql(query).toPandas()"
   ]
  },
  {
   "cell_type": "code",
   "execution_count": 13,
   "id": "7334f313-4298-4315-94d2-9d096fc9b3e7",
   "metadata": {},
   "outputs": [
    {
     "data": {
      "text/plain": [
       "[[1, 9, 11], [2, 9, 11], [3, 7, 5], [4, 3, 1], [5, 8, 10]]"
      ]
     },
     "execution_count": 13,
     "metadata": {},
     "output_type": "execute_result"
    }
   ],
   "source": [
    "data_list = [[1,9,11], [2,9,11], [3,7,5], [4,3,1], [5,8,10]]\n",
    "rdd_data = sc.parallelize(data_list)\n",
    "rdd_data.collect()"
   ]
  },
  {
   "cell_type": "code",
   "execution_count": 14,
   "id": "5f6243c9-e55f-4e05-9f82-02c29aadabd6",
   "metadata": {},
   "outputs": [],
   "source": [
    "from pyspark.sql.types import *\n",
    "\n",
    "sche_string = \"ID V1 V2\"\n",
    "fields = [StructField(field_name, StringType(), True) for field_name in sche_string.split()]\n",
    "schema = StructType(fields)"
   ]
  },
  {
   "cell_type": "code",
   "execution_count": 15,
   "id": "32d2375c-580d-4e4b-811e-0efc1aa4df30",
   "metadata": {},
   "outputs": [],
   "source": [
    "sche_df = sqlContext.createDataFrame(rdd_data, schema)"
   ]
  },
  {
   "cell_type": "code",
   "execution_count": 16,
   "id": "1c268580-9d71-4d8f-8052-49f0dacb3fb2",
   "metadata": {},
   "outputs": [
    {
     "name": "stdout",
     "output_type": "stream",
     "text": [
      "+---+---+---+\n",
      "| ID| V1| V2|\n",
      "+---+---+---+\n",
      "|  1|  9| 11|\n",
      "|  2|  9| 11|\n",
      "|  3|  7|  5|\n",
      "|  4|  3|  1|\n",
      "|  5|  8| 10|\n",
      "+---+---+---+\n",
      "\n"
     ]
    }
   ],
   "source": [
    "sche_df.show()"
   ]
  },
  {
   "cell_type": "code",
   "execution_count": 17,
   "id": "e999354d-6d84-459f-8a3c-f8b277705572",
   "metadata": {},
   "outputs": [
    {
     "data": {
      "text/plain": [
       "[Row(id=1, name=9, gender=11),\n",
       " Row(id=2, name=9, gender=11),\n",
       " Row(id=3, name=7, gender=5),\n",
       " Row(id=4, name=3, gender=1),\n",
       " Row(id=5, name=8, gender=10)]"
      ]
     },
     "execution_count": 17,
     "metadata": {},
     "output_type": "execute_result"
    }
   ],
   "source": [
    "from pyspark.sql import Row\n",
    "rdd_data_mapped = rdd_data.map(lambda x : Row(id=x[0], name=x[1], gender=x[2]))\n",
    "rdd_data_mapped.collect()"
   ]
  },
  {
   "cell_type": "code",
   "execution_count": 18,
   "id": "5aca3aa5-0723-4e14-bb79-14397d4cc5e9",
   "metadata": {},
   "outputs": [
    {
     "name": "stdout",
     "output_type": "stream",
     "text": [
      "+---+----+------+\n",
      "| id|name|gender|\n",
      "+---+----+------+\n",
      "|  1|   9|    11|\n",
      "|  2|   9|    11|\n",
      "|  3|   7|     5|\n",
      "|  4|   3|     1|\n",
      "|  5|   8|    10|\n",
      "+---+----+------+\n",
      "\n"
     ]
    }
   ],
   "source": [
    "rdd_data_mapped.toDF().show()"
   ]
  },
  {
   "cell_type": "markdown",
   "id": "80e5eb0e-1eb1-42fc-873a-6a272f9f8830",
   "metadata": {},
   "source": [
    "---"
   ]
  },
  {
   "cell_type": "code",
   "execution_count": 19,
   "id": "9b6ae9e9-6645-426c-82b6-1deea58cae66",
   "metadata": {},
   "outputs": [],
   "source": [
    "path = \"/home/atimaby28/pyspark_example/data/\"\n",
    "file_name = path + \"user_info.csv\"\n",
    "\n",
    "def processToRDD(line):\n",
    "    return line.split(\",\")\n",
    "\n",
    "def processToDF(line):\n",
    "    return Row(id=int(line[0]), name = line[1], age = int(line[2]), num_friend = int(line[3]))\n",
    "\n",
    "user_rdd = sc.textFile(file_name).map(processToRDD)\n",
    "user_rdd.collect()\n",
    "\n",
    "user_rows = user_rdd.map(processToDF)"
   ]
  },
  {
   "cell_type": "code",
   "execution_count": 20,
   "id": "ffa5a47c-cc83-4d13-86f2-739dbcbc3770",
   "metadata": {},
   "outputs": [
    {
     "data": {
      "text/plain": [
       "[Row(id=0, name='Alex', age=30, num_friend=123),\n",
       " Row(id=1, name='Bert', age=32, num_friend=234),\n",
       " Row(id=2, name='Curt', age=28, num_friend=312),\n",
       " Row(id=3, name='Don', age=32, num_friend=89)]"
      ]
     },
     "execution_count": 20,
     "metadata": {},
     "output_type": "execute_result"
    }
   ],
   "source": [
    "user_rows.collect()"
   ]
  },
  {
   "cell_type": "code",
   "execution_count": 21,
   "id": "866a632b-70b0-466f-9870-695f8ad60f67",
   "metadata": {},
   "outputs": [
    {
     "name": "stdout",
     "output_type": "stream",
     "text": [
      "+---+----+---+----------+\n",
      "| id|name|age|num_friend|\n",
      "+---+----+---+----------+\n",
      "|  0|Alex| 30|       123|\n",
      "|  1|Bert| 32|       234|\n",
      "|  2|Curt| 28|       312|\n",
      "|  3| Don| 32|        89|\n",
      "+---+----+---+----------+\n",
      "\n"
     ]
    }
   ],
   "source": [
    "user_df = sqlContext.createDataFrame(user_rows)\n",
    "user_df.show()"
   ]
  },
  {
   "cell_type": "code",
   "execution_count": 22,
   "id": "5786394b-8c06-422f-b3d5-dde57112cdba",
   "metadata": {},
   "outputs": [
    {
     "name": "stdout",
     "output_type": "stream",
     "text": [
      "+---+---+\n",
      "| id|age|\n",
      "+---+---+\n",
      "|  1| 32|\n",
      "|  3| 32|\n",
      "+---+---+\n",
      "\n"
     ]
    }
   ],
   "source": [
    "user_filter = user_df.select(user_df.id, user_df.age).filter(user_df.age > 30)\n",
    "\n",
    "user_filter.show()"
   ]
  },
  {
   "cell_type": "code",
   "execution_count": 23,
   "id": "e4bf923e-d481-4e76-a390-2d87ce697b5a",
   "metadata": {},
   "outputs": [
    {
     "data": {
      "text/plain": [
       "[Row(age=32, avg(id)=2.0, avg(age)=32.0)]"
      ]
     },
     "execution_count": 23,
     "metadata": {},
     "output_type": "execute_result"
    }
   ],
   "source": [
    "user_filter.groupBy('age').mean().collect()"
   ]
  },
  {
   "cell_type": "code",
   "execution_count": 24,
   "id": "2ba26300-1b9e-4627-88b2-373973e42786",
   "metadata": {},
   "outputs": [
    {
     "name": "stdout",
     "output_type": "stream",
     "text": [
      "+---+-------+--------+\n",
      "|age|max(id)|max(age)|\n",
      "+---+-------+--------+\n",
      "| 32|      3|      32|\n",
      "+---+-------+--------+\n",
      "\n"
     ]
    }
   ],
   "source": [
    "user_filter.groupBy(\"age\").agg({'age' : 'max', 'id' : 'max'}).show()"
   ]
  },
  {
   "cell_type": "code",
   "execution_count": 25,
   "id": "c0752361-4b7c-4754-96b6-0d587a3eaeff",
   "metadata": {},
   "outputs": [
    {
     "name": "stdout",
     "output_type": "stream",
     "text": [
      "+---+----+---+----------+--------+\n",
      "| id|name|age|num_friend|maturity|\n",
      "+---+----+---+----------+--------+\n",
      "|  0|Alex| 30|       123|   adult|\n",
      "|  1|Bert| 32|       234|   adult|\n",
      "|  2|Curt| 28|       312|   child|\n",
      "|  3| Don| 32|        89|   adult|\n",
      "+---+----+---+----------+--------+\n",
      "\n"
     ]
    }
   ],
   "source": [
    "from pyspark.sql.types import StringType\n",
    "from pyspark.sql.functions import udf\n",
    "\n",
    "maturity_udf = udf(lambda age : \"adult\" if age >= 30 else \"child\", StringType())\n",
    "user_df.withColumn(\"maturity\", maturity_udf(user_df.age)).show()"
   ]
  }
 ],
 "metadata": {
  "kernelspec": {
   "display_name": "Python 3 (ipykernel)",
   "language": "python",
   "name": "python3"
  },
  "language_info": {
   "codemirror_mode": {
    "name": "ipython",
    "version": 3
   },
   "file_extension": ".py",
   "mimetype": "text/x-python",
   "name": "python",
   "nbconvert_exporter": "python",
   "pygments_lexer": "ipython3",
   "version": "3.10.12"
  }
 },
 "nbformat": 4,
 "nbformat_minor": 5
}
