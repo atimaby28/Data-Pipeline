{
 "cells": [
  {
   "cell_type": "code",
   "execution_count": 1,
   "id": "999fc1ac-d370-48fd-8025-df49d508a6c7",
   "metadata": {},
   "outputs": [],
   "source": [
    "import os\n",
    "os.environ[\"SPARK_HOME\"] = \"/home/atimaby28/spark-3.5.0-bin-hadoop3\"\n",
    "\n",
    "import findspark\n",
    "findspark.init()"
   ]
  },
  {
   "cell_type": "code",
   "execution_count": 2,
   "id": "97e2a426-148e-44ad-b792-2a18a391c0e9",
   "metadata": {},
   "outputs": [
    {
     "name": "stderr",
     "output_type": "stream",
     "text": [
      "24/02/12 15:53:17 WARN Utils: Your hostname, bigdata-project resolves to a loopback address: 127.0.1.1; using 192.168.64.7 instead (on interface enp0s1)\n",
      "24/02/12 15:53:17 WARN Utils: Set SPARK_LOCAL_IP if you need to bind to another address\n",
      "Setting default log level to \"WARN\".\n",
      "To adjust logging level use sc.setLogLevel(newLevel). For SparkR, use setLogLevel(newLevel).\n",
      "24/02/12 15:53:17 WARN NativeCodeLoader: Unable to load native-hadoop library for your platform... using builtin-java classes where applicable\n"
     ]
    }
   ],
   "source": [
    "import pyspark\n",
    "sc = pyspark.SparkContext(appName=\"AirBnb\")"
   ]
  },
  {
   "cell_type": "code",
   "execution_count": 3,
   "id": "57b93c2b-20bf-41d6-ac16-2e437b6c4671",
   "metadata": {},
   "outputs": [
    {
     "name": "stderr",
     "output_type": "stream",
     "text": [
      "/home/atimaby28/spark-3.5.0-bin-hadoop3/python/pyspark/sql/context.py:113: FutureWarning: Deprecated in 3.0.0. Use SparkSession.builder.getOrCreate() instead.\n",
      "  warnings.warn(\n"
     ]
    }
   ],
   "source": [
    "from pyspark.sql import SQLContext\n",
    "sqlContext = SQLContext(sc)"
   ]
  },
  {
   "cell_type": "code",
   "execution_count": 4,
   "id": "fc348b48-bc28-4811-9343-58b080f219ac",
   "metadata": {},
   "outputs": [
    {
     "name": "stdout",
     "output_type": "stream",
     "text": [
      "+--------+--------+---------------+-------+-------------+-------+--------------------+------------+--------+-----+-------+---------+----------+--------------------+\n",
      "| room_id| host_id|      room_type|borough| neighborhood|reviews|overall_satisfaction|accommodates|bedrooms|price|minstay| latitude| longitude|       last_modified|\n",
      "+--------+--------+---------------+-------+-------------+-------+--------------------+------------+--------+-----+-------+---------+----------+--------------------+\n",
      "| 6291807|16375951|Entire home/apt|   NULL|Jamaica Plain|      1|                NULL|           4|     2.0|119.0|   14.0| 42.29816| -71.11153|2016-05-19 02:58:...|\n",
      "| 2656568|13597630|Entire home/apt|   NULL|     Back Bay|      0|                NULL|           2|     1.0|600.0|    1.0|42.348072|-71.076639|2016-05-19 02:58:...|\n",
      "|10723203|15913699|   Private room|   NULL|      Allston|      2|                NULL|           2|     1.0| 96.0|    1.0|42.350588|-71.129477|2016-05-19 02:57:...|\n",
      "|10034592|20399668|   Private room|   NULL|   Dorchester|     13|                 5.0|           2|     1.0| 55.0|    1.0|42.317168|-71.040483|2016-05-19 02:57:...|\n",
      "| 5454513| 4962900|Entire home/apt|   NULL|     Back Bay|     13|                 4.5|           5|     2.0|276.0|   NULL|42.346598|-71.080123|2016-05-19 02:56:...|\n",
      "|  335730|  290698|   Private room|   NULL|  East Boston|     34|                 3.5|           9|     1.0| 70.0|    1.0| 42.39001|-70.996161|2016-05-19 02:56:...|\n",
      "| 7635616|22348222|Entire home/apt|   NULL|  Beacon Hill|      3|                 5.0|           2|     0.0|155.0|    7.0|42.359601|-71.063908|2016-05-19 02:56:...|\n",
      "|12808014|28197086|   Private room|   NULL|      Allston|      0|                NULL|           1|     1.0| 65.0|    1.0|42.351883|-71.130772|2016-05-19 02:56:...|\n",
      "| 6793913|30283594|Entire home/apt|   NULL|       Fenway|      2|                NULL|           5|     2.0|571.0|    3.0|42.343305|-71.101489|2016-05-19 02:55:...|\n",
      "|  586994| 2894162|Entire home/apt|   NULL|  Beacon Hill|     47|                 4.5|           2|     1.0|160.0|    4.0|42.358926|-71.063109|2016-05-19 02:54:...|\n",
      "+--------+--------+---------------+-------+-------------+-------+--------------------+------------+--------+-----+-------+---------+----------+--------------------+\n",
      "only showing top 10 rows\n",
      "\n"
     ]
    }
   ],
   "source": [
    "hdfs_path = \"hdfs://localhost:9000/user/atimaby28/\"\n",
    "file_path = hdfs_path + \"airbnb_data.csv\"\n",
    "\n",
    "df_air = sqlContext.read.format(\"csv\").option(\"header\", \"true\").option(\"inferSchema\", \"false\").load(file_path)\n",
    "\n",
    "df_air.show(10)"
   ]
  },
  {
   "cell_type": "code",
   "execution_count": 5,
   "id": "f56a58c2-e6c8-476e-8c59-fc8efb167bde",
   "metadata": {},
   "outputs": [
    {
     "name": "stdout",
     "output_type": "stream",
     "text": [
      "+-------+-------+---------+-------+------------+-------+--------------------+------------+--------+-----+-------+--------+---------+-------------+\n",
      "|room_id|host_id|room_type|borough|neighborhood|reviews|overall_satisfaction|accommodates|bedrooms|price|minstay|latitude|longitude|last_modified|\n",
      "+-------+-------+---------+-------+------------+-------+--------------------+------------+--------+-----+-------+--------+---------+-------------+\n",
      "+-------+-------+---------+-------+------------+-------+--------------------+------------+--------+-----+-------+--------+---------+-------------+\n",
      "\n"
     ]
    }
   ],
   "source": [
    "from pyspark.sql.functions import col\n",
    "\n",
    "df_air.where(col(\"borough\").isNotNull()).show()"
   ]
  },
  {
   "cell_type": "code",
   "execution_count": 6,
   "id": "c659e592-22d1-4c8e-8a93-f347776cc367",
   "metadata": {},
   "outputs": [
    {
     "name": "stdout",
     "output_type": "stream",
     "text": [
      "+--------+--------+---------------+-------+-------------+-------+--------------------+------------+--------+-----+-------+---------+----------+--------------------+\n",
      "| room_id| host_id|      room_type|borough| neighborhood|reviews|overall_satisfaction|accommodates|bedrooms|price|minstay| latitude| longitude|       last_modified|\n",
      "+--------+--------+---------------+-------+-------------+-------+--------------------+------------+--------+-----+-------+---------+----------+--------------------+\n",
      "| 6291807|16375951|Entire home/apt|unknown|Jamaica Plain|      1|                NULL|           4|     2.0|119.0|   14.0| 42.29816| -71.11153|2016-05-19 02:58:...|\n",
      "| 2656568|13597630|Entire home/apt|unknown|     Back Bay|      0|                NULL|           2|     1.0|600.0|    1.0|42.348072|-71.076639|2016-05-19 02:58:...|\n",
      "|10723203|15913699|   Private room|unknown|      Allston|      2|                NULL|           2|     1.0| 96.0|    1.0|42.350588|-71.129477|2016-05-19 02:57:...|\n",
      "|10034592|20399668|   Private room|unknown|   Dorchester|     13|                 5.0|           2|     1.0| 55.0|    1.0|42.317168|-71.040483|2016-05-19 02:57:...|\n",
      "| 5454513| 4962900|Entire home/apt|unknown|     Back Bay|     13|                 4.5|           5|     2.0|276.0|   NULL|42.346598|-71.080123|2016-05-19 02:56:...|\n",
      "|  335730|  290698|   Private room|unknown|  East Boston|     34|                 3.5|           9|     1.0| 70.0|    1.0| 42.39001|-70.996161|2016-05-19 02:56:...|\n",
      "| 7635616|22348222|Entire home/apt|unknown|  Beacon Hill|      3|                 5.0|           2|     0.0|155.0|    7.0|42.359601|-71.063908|2016-05-19 02:56:...|\n",
      "|12808014|28197086|   Private room|unknown|      Allston|      0|                NULL|           1|     1.0| 65.0|    1.0|42.351883|-71.130772|2016-05-19 02:56:...|\n",
      "| 6793913|30283594|Entire home/apt|unknown|       Fenway|      2|                NULL|           5|     2.0|571.0|    3.0|42.343305|-71.101489|2016-05-19 02:55:...|\n",
      "|  586994| 2894162|Entire home/apt|unknown|  Beacon Hill|     47|                 4.5|           2|     1.0|160.0|    4.0|42.358926|-71.063109|2016-05-19 02:54:...|\n",
      "| 1373520| 1220808|   Private room|unknown| Mission Hill|     53|                 4.5|           2|     1.0|125.0|    1.0|42.327459|-71.099318|2016-05-19 02:54:...|\n",
      "| 4369766| 6846812|   Private room|unknown|     Back Bay|     62|                 5.0|           2|     1.0|170.0|    2.0|42.345938|-71.086337|2016-05-19 02:54:...|\n",
      "| 9992532|30283594|Entire home/apt|unknown|     Back Bay|      0|                NULL|           5|     2.0|571.0|    3.0| 42.34671|-71.077707|2016-05-19 02:54:...|\n",
      "| 1187188| 2238969|Entire home/apt|unknown|Jamaica Plain|     17|                 5.0|           4|     2.0|240.0|    3.0|42.306928|-71.107894|2016-05-19 02:54:...|\n",
      "| 5824015|30228015|   Private room|unknown|      Allston|      0|                NULL|           2|     1.0| 50.0|    1.0| 42.35325|-71.129579|2016-05-19 02:54:...|\n",
      "| 9992751|30283594|Entire home/apt|unknown|     Back Bay|      0|                NULL|           5|     2.0|199.0|    3.0|42.346439|-71.079199|2016-05-19 02:54:...|\n",
      "| 9362821|48584100|   Private room|unknown|      Roxbury|     27|                 4.5|           2|     1.0| 83.0|    1.0|42.337771|-71.080901|2016-05-19 02:53:...|\n",
      "|  213086|  886871|   Private room|unknown|   Dorchester|     16|                 4.5|           1|     1.0| 70.0|    2.0|42.317216|-71.055244|2016-05-19 02:53:...|\n",
      "| 8388481|26956083|   Private room|unknown|     Brighton|      3|                 5.0|           2|     1.0| 89.0|    2.0|42.358573|-71.140601|2016-05-19 02:53:...|\n",
      "|   95453|  508268|Entire home/apt|unknown|      Allston|      9|                 5.0|           2|     0.0|175.0|    5.0|42.359372| -71.13156|2016-05-19 02:53:...|\n",
      "+--------+--------+---------------+-------+-------------+-------+--------------------+------------+--------+-----+-------+---------+----------+--------------------+\n",
      "only showing top 20 rows\n",
      "\n"
     ]
    }
   ],
   "source": [
    "df_air = df_air.na.fill(value=\"unknown\", subset=[\"borough\"])\n",
    "df_air.where(col(\"borough\").isNotNull()).show()                "
   ]
  },
  {
   "cell_type": "code",
   "execution_count": 7,
   "id": "1dfc5b02-2682-478a-a94d-5ef36c336214",
   "metadata": {},
   "outputs": [],
   "source": [
    "from pyspark.sql.types import IntegerType, DoubleType, StringType\n",
    "\n",
    "df = df_air.select(df_air.neighborhood,\n",
    "                   df_air.room_id.cast(IntegerType()),\n",
    "                   df_air.host_id.cast(IntegerType()),\n",
    "                   df_air.reviews.cast(DoubleType()),\n",
    "                   df_air.overall_satisfaction.cast(DoubleType()),\n",
    "                   df_air.accommodates.cast(DoubleType()),\n",
    "                   df_air.bedrooms.cast(DoubleType()),\n",
    "                   df_air.price.cast(DoubleType())\n",
    "                  )"
   ]
  },
  {
   "cell_type": "code",
   "execution_count": 8,
   "id": "38cd1389-49d3-4c9a-a607-71369911d01e",
   "metadata": {},
   "outputs": [
    {
     "name": "stdout",
     "output_type": "stream",
     "text": [
      "+-------------+--------+--------+-------+--------------------+------------+--------+-----+\n",
      "| neighborhood| room_id| host_id|reviews|overall_satisfaction|accommodates|bedrooms|price|\n",
      "+-------------+--------+--------+-------+--------------------+------------+--------+-----+\n",
      "|Jamaica Plain| 6291807|16375951|    1.0|                 3.0|         4.0|     2.0|119.0|\n",
      "|     Back Bay| 2656568|13597630|    0.0|                 3.0|         2.0|     1.0|600.0|\n",
      "|      Allston|10723203|15913699|    2.0|                 3.0|         2.0|     1.0| 96.0|\n",
      "|   Dorchester|10034592|20399668|   13.0|                 5.0|         2.0|     1.0| 55.0|\n",
      "|     Back Bay| 5454513| 4962900|   13.0|                 4.5|         5.0|     2.0|276.0|\n",
      "|  East Boston|  335730|  290698|   34.0|                 3.5|         9.0|     1.0| 70.0|\n",
      "|  Beacon Hill| 7635616|22348222|    3.0|                 5.0|         2.0|     0.0|155.0|\n",
      "|      Allston|12808014|28197086|    0.0|                 3.0|         1.0|     1.0| 65.0|\n",
      "|       Fenway| 6793913|30283594|    2.0|                 3.0|         5.0|     2.0|571.0|\n",
      "|  Beacon Hill|  586994| 2894162|   47.0|                 4.5|         2.0|     1.0|160.0|\n",
      "+-------------+--------+--------+-------+--------------------+------------+--------+-----+\n",
      "only showing top 10 rows\n",
      "\n"
     ]
    }
   ],
   "source": [
    "df = df.na.fill(value=3, subset=[\"overall_satisfaction\"])\n",
    "df.show(10)"
   ]
  },
  {
   "cell_type": "code",
   "execution_count": 9,
   "id": "d98f5fbb-da74-4a3d-91c1-ba07be1035f0",
   "metadata": {},
   "outputs": [
    {
     "name": "stdout",
     "output_type": "stream",
     "text": [
      "+--------+--------+------------------+\n",
      "| room_id| host_id|       total_score|\n",
      "+--------+--------+------------------+\n",
      "| 6291807|16375951|             3.378|\n",
      "| 2656568|13597630|               3.0|\n",
      "|10723203|15913699|3.7560000000000002|\n",
      "|10034592|20399668|             9.914|\n",
      "| 5454513| 4962900|             9.414|\n",
      "|  335730|  290698|            16.352|\n",
      "| 7635616|22348222|             6.134|\n",
      "|12808014|28197086|               3.0|\n",
      "| 6793913|30283594|3.7560000000000002|\n",
      "|  586994| 2894162|22.266000000000002|\n",
      "+--------+--------+------------------+\n",
      "only showing top 10 rows\n",
      "\n"
     ]
    }
   ],
   "source": [
    "df1 = df\n",
    "\n",
    "df1 = df1.withColumn(\"total_score\", df1[\"overall_satisfaction\"] + df1[\"reviews\"] * 0.378)\n",
    "df1 = df1.select(\"room_id\", \"host_id\", \"total_score\")\n",
    "\n",
    "df1.show(10)"
   ]
  },
  {
   "cell_type": "code",
   "execution_count": 10,
   "id": "3f8e4fbe-b915-40df-9dd1-540e840ce9b7",
   "metadata": {},
   "outputs": [],
   "source": [
    "df1.sort(\"total_score\", ascending=True).write.csv(\"./result/airbnb/sorted_total_score_ascending\")\n",
    "df1.sort(\"total_score\", ascending=False).write.csv(\"./result/airbnb/sorted_total_score_descending\")"
   ]
  },
  {
   "cell_type": "markdown",
   "id": "2b083377-fae4-4846-a019-ed930c302a9e",
   "metadata": {},
   "source": [
    "---"
   ]
  },
  {
   "cell_type": "code",
   "execution_count": 11,
   "id": "109552c4-682f-4f61-ae56-06126e0b1403",
   "metadata": {},
   "outputs": [
    {
     "name": "stdout",
     "output_type": "stream",
     "text": [
      "+------------+------------------+---------------------------+------------------+--------------+--------------+------------+------------+\n",
      "|neighborhood|    avg of reviews|avg of overall_satisfaction|      avg of price|max of reviews|min of reviews|max of price|min of price|\n",
      "+------------+------------------+---------------------------+------------------+--------------+--------------+------------+------------+\n",
      "|     Allston| 10.31400966183575|          3.710144927536232|100.01932367149759|         118.0|           0.0|       550.0|        20.0|\n",
      "|    Back Bay|11.296819787985866|         3.9558303886925796|237.51590106007066|         283.0|           0.0|      1372.0|        41.0|\n",
      "| Bay Village|10.947368421052632|         3.9473684210526314| 254.1578947368421|          47.0|           0.0|      1200.0|        81.0|\n",
      "| Beacon Hill|              17.8|          4.087804878048781|215.90731707317073|         214.0|           0.0|       849.0|        42.0|\n",
      "|    Brighton|             13.25|                       3.85|113.95555555555555|         152.0|           0.0|       999.0|        10.0|\n",
      "| Charlestown| 24.43076923076923|                        4.2|228.53846153846155|         198.0|           0.0|      1000.0|        55.0|\n",
      "|   Chinatown|11.909090909090908|         3.8545454545454545|254.92727272727274|         172.0|           0.0|       600.0|        92.0|\n",
      "|  Dorchester|              25.0|                    4.03125|            91.575|         262.0|           0.0|       395.0|        30.0|\n",
      "|    Downtown|14.671052631578947|         3.9210526315789473|241.18421052631578|         188.0|           0.0|      1000.0|        38.0|\n",
      "| East Boston| 28.53174603174603|          4.182539682539683|115.48412698412699|         281.0|           0.0|       300.0|        35.0|\n",
      "+------------+------------------+---------------------------+------------------+--------------+--------------+------------+------------+\n",
      "only showing top 10 rows\n",
      "\n"
     ]
    }
   ],
   "source": [
    "import pyspark.sql.functions as F\n",
    "\n",
    "df2 = df\n",
    "\n",
    "df2 = df.groupBy(\"neighborhood\").agg(F.mean(\"reviews\").alias(\"avg of reviews\"),\n",
    "                                     F.mean(\"overall_satisfaction\").alias(\"avg of overall_satisfaction\"),\n",
    "                                     F.mean(\"price\").alias(\"avg of price\"),\n",
    "                                     F.max(\"reviews\").alias(\"max of reviews\"),\n",
    "                                     F.min(\"reviews\").alias(\"min of reviews\"),\n",
    "                                     F.max(\"price\").alias(\"max of price\"),\n",
    "                                     F.min(\"price\").alias(\"min of price\")\n",
    "                                    ).sort(\"neighborhood\")\n",
    "\n",
    "df2.show(10)"
   ]
  },
  {
   "cell_type": "code",
   "execution_count": 12,
   "id": "ff787180-1a22-45e2-bdcd-faa9fb5d65a9",
   "metadata": {},
   "outputs": [],
   "source": [
    "df2.write.csv(\"./result/airbnb/grouped_neighborhood_ascend\")"
   ]
  },
  {
   "cell_type": "code",
   "execution_count": 13,
   "id": "46548ddf-8abc-4315-b2c7-4420fade0412",
   "metadata": {},
   "outputs": [
    {
     "data": {
      "text/plain": [
       "1"
      ]
     },
     "execution_count": 13,
     "metadata": {},
     "output_type": "execute_result"
    }
   ],
   "source": [
    "df2.rdd.getNumPartitions()"
   ]
  },
  {
   "cell_type": "code",
   "execution_count": 14,
   "id": "693a1fd9-17d5-4bbb-9c14-a7961d2b9bdb",
   "metadata": {},
   "outputs": [],
   "source": [
    "df2.coalesce(1).write.csv(\"./result/airbnb/grouped_partition1\")\n",
    "\n",
    "df2.coalesce(1).write.option(\"header\", \"True\").format(\"csv\").save(hdfs_path + \"output_df2\")"
   ]
  },
  {
   "cell_type": "markdown",
   "id": "0d226f7d-2dbd-4e4e-9fff-159f04a6b473",
   "metadata": {},
   "source": [
    "---"
   ]
  },
  {
   "cell_type": "code",
   "execution_count": 15,
   "id": "639255d3-1833-4722-a23d-18e7657923a8",
   "metadata": {},
   "outputs": [
    {
     "name": "stderr",
     "output_type": "stream",
     "text": [
      "/usr/lib/python3/dist-packages/scipy/__init__.py:146: UserWarning: A NumPy version >=1.17.3 and <1.25.0 is required for this version of SciPy (detected version 1.26.4\n",
      "  warnings.warn(f\"A NumPy version >={np_minversion} and <{np_maxversion}\"\n"
     ]
    },
    {
     "name": "stdout",
     "output_type": "stream",
     "text": [
      "+-------------+--------+--------+-------+--------------------+------------+--------+-----+-------+\n",
      "| neighborhood| room_id| host_id|reviews|overall_satisfaction|accommodates|bedrooms|price|buckets|\n",
      "+-------------+--------+--------+-------+--------------------+------------+--------+-----+-------+\n",
      "|Jamaica Plain| 6291807|16375951|    1.0|                 3.0|         4.0|     2.0|119.0|    1.0|\n",
      "|     Back Bay| 2656568|13597630|    0.0|                 3.0|         2.0|     1.0|600.0|    5.0|\n",
      "|      Allston|10723203|15913699|    2.0|                 3.0|         2.0|     1.0| 96.0|    0.0|\n",
      "|   Dorchester|10034592|20399668|   13.0|                 5.0|         2.0|     1.0| 55.0|    0.0|\n",
      "|     Back Bay| 5454513| 4962900|   13.0|                 4.5|         5.0|     2.0|276.0|    2.0|\n",
      "|  East Boston|  335730|  290698|   34.0|                 3.5|         9.0|     1.0| 70.0|    0.0|\n",
      "|  Beacon Hill| 7635616|22348222|    3.0|                 5.0|         2.0|     0.0|155.0|    1.0|\n",
      "|      Allston|12808014|28197086|    0.0|                 3.0|         1.0|     1.0| 65.0|    0.0|\n",
      "|       Fenway| 6793913|30283594|    2.0|                 3.0|         5.0|     2.0|571.0|    5.0|\n",
      "|  Beacon Hill|  586994| 2894162|   47.0|                 4.5|         2.0|     1.0|160.0|    1.0|\n",
      "+-------------+--------+--------+-------+--------------------+------------+--------+-----+-------+\n",
      "only showing top 10 rows\n",
      "\n"
     ]
    }
   ],
   "source": [
    "from pyspark.ml.feature import Bucketizer\n",
    "from pyspark.sql.functions import udf\n",
    "\n",
    "df3 = df\n",
    "\n",
    "bucketizer = Bucketizer(splits=[0, 100, 200, 300, 400, 500, 1000, 5000], inputCol=\"price\", outputCol=\"buckets\")\n",
    "df3_buck = bucketizer.setHandleInvalid(\"keep\").transform(df3)\n",
    "\n",
    "df3_buck.show(10)"
   ]
  },
  {
   "cell_type": "code",
   "execution_count": 16,
   "id": "ce70fe98-9521-4fab-9ff1-3bbe39ad0fa9",
   "metadata": {},
   "outputs": [
    {
     "name": "stdout",
     "output_type": "stream",
     "text": [
      "+--------+-----+-------+-----------+\n",
      "| room_id|price|buckets|price_range|\n",
      "+--------+-----+-------+-----------+\n",
      "| 6291807|119.0|    1.0|    100-200|\n",
      "| 2656568|600.0|    5.0|   500-1000|\n",
      "|10723203| 96.0|    0.0|      0-100|\n",
      "|10034592| 55.0|    0.0|      0-100|\n",
      "| 5454513|276.0|    2.0|    200-300|\n",
      "|  335730| 70.0|    0.0|      0-100|\n",
      "| 7635616|155.0|    1.0|    100-200|\n",
      "|12808014| 65.0|    0.0|      0-100|\n",
      "| 6793913|571.0|    5.0|   500-1000|\n",
      "|  586994|160.0|    1.0|    100-200|\n",
      "| 1373520|125.0|    1.0|    100-200|\n",
      "| 4369766|170.0|    1.0|    100-200|\n",
      "| 9992532|571.0|    5.0|   500-1000|\n",
      "| 1187188|240.0|    2.0|    200-300|\n",
      "| 5824015| 50.0|    0.0|      0-100|\n",
      "| 9992751|199.0|    1.0|    100-200|\n",
      "| 9362821| 83.0|    0.0|      0-100|\n",
      "|  213086| 70.0|    0.0|      0-100|\n",
      "| 8388481| 89.0|    0.0|      0-100|\n",
      "|   95453|175.0|    1.0|    100-200|\n",
      "+--------+-----+-------+-----------+\n",
      "only showing top 20 rows\n",
      "\n"
     ]
    }
   ],
   "source": [
    "scope = {0.0 : \"0-100\", 1.0 : \"100-200\", 2.0 : \"200-300\", 3.0 : \"300-400\", 4.0 : \"400-500\", 5.0 : \"500-1000\", 6.0 : \"1000-2000\"}\n",
    "udf_scope = udf(lambda x : scope[x], StringType())\n",
    "df3_buck = df3_buck.withColumn(\"price_range\", udf_scope(\"buckets\"))\n",
    "\n",
    "df3_buck.select(\"room_id\", \"price\", \"buckets\", \"price_range\").show()"
   ]
  },
  {
   "cell_type": "code",
   "execution_count": 17,
   "id": "f1d83514-7105-47f5-8603-0af6c3acec28",
   "metadata": {},
   "outputs": [
    {
     "name": "stdout",
     "output_type": "stream",
     "text": [
      "+-----------+-------------------+-------------------+------------------+---------------+-------------------+--------------+--------------------+\n",
      "|price_range|avg of accommodates|median accommodates|   avg of bedrooms|median bedrooms|     avg of reviews|median reviews|        neighborhood|\n",
      "+-----------+-------------------+-------------------+------------------+---------------+-------------------+--------------+--------------------+\n",
      "|      0-100|  1.974025974025974|                2.0|0.9897959183673469|            1.0| 21.000927643784788|           5.0|[Allston, Dorches...|\n",
      "|    100-200| 2.9757869249394675|                2.0|1.1011326860841424|            1.0| 17.102502017756255|           5.0|[Jamaica Plain, B...|\n",
      "|    200-300| 3.8719298245614033|                4.0| 1.536412078152753|            1.0| 13.719298245614034|           4.0|[Back Bay, Jamaic...|\n",
      "|    300-400|  4.812182741116751|                5.0|  2.00507614213198|            2.0|  9.309644670050762|           4.0|[South End, South...|\n",
      "|    400-500|  4.488372093023256|                4.0| 1.813953488372093|            1.0|  5.441860465116279|           1.0|[Mission Hill, Do...|\n",
      "|   500-1000|  5.322916666666667|                5.0|2.3958333333333335|            2.0|  5.635416666666667|           0.0|[Back Bay, Fenway...|\n",
      "|  1000-2000|                4.0|                4.0|1.9090909090909092|            2.0|0.09090909090909091|           0.0|[Charlestown, Sou...|\n",
      "+-----------+-------------------+-------------------+------------------+---------------+-------------------+--------------+--------------------+\n",
      "\n"
     ]
    }
   ],
   "source": [
    "df3_buck = df3_buck.groupBy(\"buckets\", \"price_range\").agg(F.mean(\"accommodates\").alias(\"avg of accommodates\"),\n",
    "                                                          F.expr(\"percentile_approx(accommodates, 0.5)\").alias(\"median accommodates\"),\n",
    "                                                          F.mean(\"bedrooms\").alias(\"avg of bedrooms\"),\n",
    "                                                          F.expr(\"percentile_approx(bedrooms, 0.5)\").alias(\"median bedrooms\"),\n",
    "                                                          F.mean(\"reviews\").alias(\"avg of reviews\"),\n",
    "                                                          F.expr(\"percentile_approx(reviews, 0.5)\").alias(\"median reviews\"),\n",
    "                                                          F.collect_list(\"neighborhood\").alias(\"neighborhood\")\n",
    "                                                         ).sort(\"buckets\", ascending=True).drop(\"buckets\")\n",
    "\n",
    "df3_buck.show(13)"
   ]
  },
  {
   "cell_type": "code",
   "execution_count": 18,
   "id": "4a1cab4b-6900-4a0c-8617-2bb1472c2414",
   "metadata": {},
   "outputs": [
    {
     "name": "stdout",
     "output_type": "stream",
     "text": [
      "+-----------+-------------------+-------------------+------------------+---------------+-------------------+--------------+--------------------+------+\n",
      "|price_range|avg of accommodates|median accommodates|   avg of bedrooms|median bedrooms|     avg of reviews|median reviews|        neighborhood|length|\n",
      "+-----------+-------------------+-------------------+------------------+---------------+-------------------+--------------+--------------------+------+\n",
      "|      0-100|  1.974025974025974|                2.0|0.9897959183673469|            1.0| 21.000927643784788|           5.0|[Allston, Dorches...|  1078|\n",
      "|    100-200| 2.9757869249394675|                2.0|1.1011326860841424|            1.0| 17.102502017756255|           5.0|[Jamaica Plain, B...|  1239|\n",
      "|    200-300| 3.8719298245614033|                4.0| 1.536412078152753|            1.0| 13.719298245614034|           4.0|[Back Bay, Jamaic...|   570|\n",
      "|    300-400|  4.812182741116751|                5.0|  2.00507614213198|            2.0|  9.309644670050762|           4.0|[South End, South...|   197|\n",
      "|    400-500|  4.488372093023256|                4.0| 1.813953488372093|            1.0|  5.441860465116279|           1.0|[Mission Hill, Do...|    86|\n",
      "|   500-1000|  5.322916666666667|                5.0|2.3958333333333335|            2.0|  5.635416666666667|           0.0|[Back Bay, Fenway...|    96|\n",
      "|  1000-2000|                4.0|                4.0|1.9090909090909092|            2.0|0.09090909090909091|           0.0|[Charlestown, Sou...|    11|\n",
      "+-----------+-------------------+-------------------+------------------+---------------+-------------------+--------------+--------------------+------+\n",
      "\n"
     ]
    }
   ],
   "source": [
    "df3_output = df3_buck.select('*', F.size('neighborhood').alias('length'))\n",
    "df3_output.show()"
   ]
  },
  {
   "cell_type": "code",
   "execution_count": 19,
   "id": "b0d90e47-87fb-4d90-b282-094f8718465c",
   "metadata": {},
   "outputs": [
    {
     "name": "stderr",
     "output_type": "stream",
     "text": [
      "/tmp/ipykernel_15905/3116011920.py:2: DeprecationWarning: \n",
      "Pyarrow will become a required dependency of pandas in the next major release of pandas (pandas 3.0),\n",
      "(to allow more performant data types, such as the Arrow string type, and better interoperability with other libraries)\n",
      "but was not found to be installed on your system.\n",
      "If this would cause problems for you,\n",
      "please provide us feedback at https://github.com/pandas-dev/pandas/issues/54466\n",
      "        \n",
      "  import pandas\n"
     ]
    }
   ],
   "source": [
    "import matplotlib.pyplot as plt\n",
    "import pandas"
   ]
  },
  {
   "cell_type": "code",
   "execution_count": 20,
   "id": "cf952ff0-e165-47b6-a88d-ab7d7c749869",
   "metadata": {},
   "outputs": [
    {
     "data": {
      "text/plain": [
       "Text(0, 0.5, 'accommodates average')"
      ]
     },
     "execution_count": 20,
     "metadata": {},
     "output_type": "execute_result"
    },
    {
     "data": {
      "image/png": "[encoded data removed]",
      "text/plain": [
       "<Figure size 640x480 with 1 Axes>"
      ]
     },
     "metadata": {},
     "output_type": "display_data"
    }
   ],
   "source": [
    "df3_local = df3_output.toPandas()\n",
    "\n",
    "table1 = df3_local[[\"avg of accommodates\"]]\n",
    "table1.plot.line()\n",
    "plt.xlabel(\"ranged price\")\n",
    "plt.ylabel(\"accommodates average\")"
   ]
  }
 ],
 "metadata": {
  "kernelspec": {
   "display_name": "Python 3 (ipykernel)",
   "language": "python",
   "name": "python3"
  },
  "language_info": {
   "codemirror_mode": {
    "name": "ipython",
    "version": 3
   },
   "file_extension": ".py",
   "mimetype": "text/x-python",
   "name": "python",
   "nbconvert_exporter": "python",
   "pygments_lexer": "ipython3",
   "version": "3.10.12"
  }
 },
 "nbformat": 4,
 "nbformat_minor": 5
}
